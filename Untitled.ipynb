{
 "cells": [
  {
   "cell_type": "code",
   "execution_count": 1,
   "metadata": {},
   "outputs": [],
   "source": [
    "%load_ext autoreload\n",
    "%autoreload 2\n",
    "%reload_ext autoreload"
   ]
  },
  {
   "cell_type": "code",
   "execution_count": 2,
   "metadata": {},
   "outputs": [],
   "source": [
    "import epdlib"
   ]
  },
  {
   "cell_type": "code",
   "execution_count": 3,
   "metadata": {},
   "outputs": [],
   "source": [
    "import logging"
   ]
  },
  {
   "cell_type": "code",
   "execution_count": 4,
   "metadata": {},
   "outputs": [],
   "source": [
    "logging.root.setLevel('DEBUG')"
   ]
  },
  {
   "cell_type": "code",
   "execution_count": 5,
   "metadata": {},
   "outputs": [],
   "source": [
    "l = { # basic two row layout\n",
    "    'weather_img': {                \n",
    "            'image': True,               # image block\n",
    "            'width': 1/2,                  # 1/1 of the width - this stretches the entire width of the display\n",
    "            'height': 1/4,               # 1/3 of the entire height\n",
    "            'abs_coordinates': (0, 0),   # this block is the key block that all other blocks will be defined in terms of\n",
    "            'hcenter': True,             # horizontally center text\n",
    "            'vcenter': True,             # vertically center text \n",
    "            'relative': False,           # this block is not relative to any other. It has an ABSOLUTE position (0, 0)\n",
    "        },\n",
    "    'temperature': { \n",
    "                'image': None,\n",
    "                'max_lines': 1,\n",
    "                'padding': 10,\n",
    "                'width': 1/2,\n",
    "                'height': 1/4,\n",
    "                'abs_coordinates': (None, 0),\n",
    "                'hcenter': True,\n",
    "                'vcenter': True,\n",
    "                'relative': ['weather_img', 'temperature'],\n",
    "                'font': './fonts/Open_Sans/OpenSans-ExtraBold.ttf',\n",
    "                'font_size': None\n",
    "    },\n",
    "    'forecast': {\n",
    "                'image': None,\n",
    "                'max_lines': 5,\n",
    "                'padding': 10,\n",
    "                'width': 1,\n",
    "                'height': 1/2,\n",
    "                'abs_coordinates': (0, None),\n",
    "                'hcenter': False,\n",
    "                'vcenter': True,\n",
    "                'relative': ['forecast', 'temperature'],\n",
    "                'font': './fonts/Open_Sans/OpenSans-Regular.ttf',\n",
    "                'font_size': None\n",
    "    }\n",
    "\n",
    "}"
   ]
  },
  {
   "cell_type": "code",
   "execution_count": 15,
   "metadata": {},
   "outputs": [
    {
     "name": "stderr",
     "output_type": "stream",
     "text": [
      "DEBUG:root:********************\n",
      "DEBUG:root:creating layout\n",
      "DEBUG:root:calculating layout for resolution (500, 500)\n",
      "DEBUG:root:layout id(2966667504)\n",
      "DEBUG:root:*****weather_img*****\n",
      "DEBUG:root:checking layout keys\n",
      "DEBUG:root:adding key: max_lines: 1\n",
      "DEBUG:root:adding key: padding: 0\n",
      "DEBUG:root:adding key: rand: False\n",
      "DEBUG:root:adding key: inverse: False\n",
      "DEBUG:root:adding key: font: None\n",
      "DEBUG:root:adding key: font_size: None\n",
      "DEBUG:root:adding key: maxchar: None\n",
      "DEBUG:root:adding key: dimensions: None\n",
      "DEBUG:root:dimensions: (250, 125)\n",
      "DEBUG:root:section has absolute coordinates\n",
      "DEBUG:root:coordinates: (0, 0)\n",
      "DEBUG:root:*****temperature*****\n",
      "DEBUG:root:checking layout keys\n",
      "DEBUG:root:adding key: rand: False\n",
      "DEBUG:root:adding key: inverse: False\n",
      "DEBUG:root:adding key: maxchar: None\n",
      "DEBUG:root:adding key: dimensions: None\n",
      "DEBUG:root:dimensions: (250, 125)\n",
      "DEBUG:root:section has calculated position\n",
      "DEBUG:root:coordinates: (0, 0)\n",
      "DEBUG:root:calculating maximum font size for area: (250, 125)\n",
      "DEBUG:root:using font: /home/pi/src/epdlib/fonts/Open_Sans/OpenSans-ExtraBold.ttf\n",
      "DEBUG:root:target X font dimension 294.11764705882354\n",
      "DEBUG:root:target Y font dimension 87.5\n",
      "DEBUG:root:X target reached\n",
      "DEBUG:root:test string: W W W ; pixel dimensions for fontsize 75: (297, 82)\n",
      "DEBUG:root:*****forecast*****\n",
      "DEBUG:root:checking layout keys\n",
      "DEBUG:root:adding key: rand: False\n",
      "DEBUG:root:adding key: inverse: False\n",
      "DEBUG:root:adding key: maxchar: None\n",
      "DEBUG:root:adding key: dimensions: None\n",
      "DEBUG:root:dimensions: (500, 250)\n",
      "DEBUG:root:section has calculated position\n",
      "DEBUG:root:coordinates: (0, 0)\n",
      "DEBUG:root:calculating maximum font size for area: (500, 250)\n",
      "DEBUG:root:using font: /home/pi/src/epdlib/fonts/Open_Sans/OpenSans-Regular.ttf\n",
      "DEBUG:root:target X font dimension 588.2352941176471\n",
      "DEBUG:root:target Y font dimension 35.0\n",
      "DEBUG:root:Y target reached\n",
      "DEBUG:root:test string: W W W ; pixel dimensions for fontsize 32: (120, 36)\n",
      "DEBUG:root:***weather_img***)\n",
      "DEBUG:root:set image block\n",
      "INFO:root:Image Block Created\n",
      "DEBUG:root:image=None\n",
      "DEBUG:root:block area: (250, 125)\n",
      "DEBUG:root:no image provided, setting to blank image: (250, 125)\n",
      "DEBUG:root:***temperature***)\n",
      "DEBUG:root:set text block\n",
      "INFO:root:TextBlock created\n",
      "DEBUG:root:no maxchar set\n",
      "DEBUG:root:calculating maximum characters for font ('Open Sans', 'ExtraBold')\n",
      "DEBUG:root:maximum characters per line: 5\n",
      "DEBUG:root:formatting string: .\n",
      "DEBUG:root:formatted list:\n",
      " ['.']\n",
      "DEBUG:root:creating blank image area: (250, 125) with inverse: False\n",
      "DEBUG:root:line size: 22, 82\n",
      "DEBUG:root:max x dim so far: 22\n",
      "DEBUG:root:dimensions of text portion of image: (22, 82)\n",
      "DEBUG:root:hcenter line: .\n",
      "DEBUG:root:drawing text at 0, 0\n",
      "DEBUG:root:with dimensions: 22, 82\n",
      "DEBUG:root:pasting text portion at coordinates: 114, 22\n",
      "DEBUG:root:***forecast***)\n",
      "DEBUG:root:set text block\n",
      "INFO:root:TextBlock created\n",
      "DEBUG:root:no maxchar set\n",
      "DEBUG:root:calculating maximum characters for font ('Open Sans', 'Regular')\n",
      "DEBUG:root:maximum characters per line: 27\n",
      "DEBUG:root:formatting string: .\n",
      "DEBUG:root:formatted list:\n",
      " ['.']\n",
      "DEBUG:root:creating blank image area: (500, 250) with inverse: False\n",
      "DEBUG:root:line size: 9, 35\n",
      "DEBUG:root:max x dim so far: 9\n",
      "DEBUG:root:dimensions of text portion of image: (9, 35)\n",
      "DEBUG:root:drawing text at 0, 0\n",
      "DEBUG:root:with dimensions: 9, 35\n",
      "DEBUG:root:pasting text portion at coordinates: 0, 108\n",
      "DEBUG:root:calculating layout for resolution (500, 500)\n",
      "DEBUG:root:layout id(2966539456)\n",
      "DEBUG:root:*****weather_img*****\n",
      "DEBUG:root:checking layout keys\n",
      "DEBUG:root:adding key: max_lines: 1\n",
      "DEBUG:root:adding key: padding: 0\n",
      "DEBUG:root:adding key: rand: False\n",
      "DEBUG:root:adding key: inverse: False\n",
      "DEBUG:root:adding key: font: None\n",
      "DEBUG:root:adding key: font_size: None\n",
      "DEBUG:root:adding key: maxchar: None\n",
      "DEBUG:root:adding key: dimensions: None\n",
      "DEBUG:root:dimensions: (250, 125)\n",
      "DEBUG:root:section has absolute coordinates\n",
      "DEBUG:root:coordinates: (0, 0)\n",
      "DEBUG:root:*****temperature*****\n",
      "DEBUG:root:checking layout keys\n",
      "DEBUG:root:adding key: rand: False\n",
      "DEBUG:root:adding key: inverse: False\n",
      "DEBUG:root:adding key: maxchar: None\n",
      "DEBUG:root:adding key: dimensions: None\n",
      "DEBUG:root:dimensions: (250, 125)\n",
      "DEBUG:root:section has calculated position\n",
      "DEBUG:root:coordinates: (0, 0)\n",
      "DEBUG:root:calculating maximum font size for area: (250, 125)\n",
      "DEBUG:root:using font: /home/pi/src/epdlib/fonts/Open_Sans/OpenSans-ExtraBold.ttf\n",
      "DEBUG:root:target X font dimension 294.11764705882354\n",
      "DEBUG:root:target Y font dimension 87.5\n",
      "DEBUG:root:X target reached\n",
      "DEBUG:root:test string: W W W ; pixel dimensions for fontsize 75: (297, 82)\n",
      "DEBUG:root:*****forecast*****\n",
      "DEBUG:root:checking layout keys\n",
      "DEBUG:root:adding key: rand: False\n",
      "DEBUG:root:adding key: inverse: False\n",
      "DEBUG:root:adding key: maxchar: None\n",
      "DEBUG:root:adding key: dimensions: None\n",
      "DEBUG:root:dimensions: (500, 250)\n",
      "DEBUG:root:section has calculated position\n",
      "DEBUG:root:coordinates: (0, 0)\n",
      "DEBUG:root:calculating maximum font size for area: (500, 250)\n",
      "DEBUG:root:using font: /home/pi/src/epdlib/fonts/Open_Sans/OpenSans-Regular.ttf\n",
      "DEBUG:root:target X font dimension 588.2352941176471\n",
      "DEBUG:root:target Y font dimension 35.0\n",
      "DEBUG:root:Y target reached\n",
      "DEBUG:root:test string: W W W ; pixel dimensions for fontsize 32: (120, 36)\n",
      "DEBUG:root:***weather_img***)\n",
      "DEBUG:root:set image block\n",
      "INFO:root:Image Block Created\n",
      "DEBUG:root:image=None\n",
      "DEBUG:root:block area: (250, 125)\n",
      "DEBUG:root:no image provided, setting to blank image: (250, 125)\n",
      "DEBUG:root:***temperature***)\n",
      "DEBUG:root:set text block\n",
      "INFO:root:TextBlock created\n",
      "DEBUG:root:no maxchar set\n",
      "DEBUG:root:calculating maximum characters for font ('Open Sans', 'ExtraBold')\n",
      "DEBUG:root:maximum characters per line: 5\n",
      "DEBUG:root:formatting string: .\n",
      "DEBUG:root:formatted list:\n",
      " ['.']\n",
      "DEBUG:root:creating blank image area: (250, 125) with inverse: False\n",
      "DEBUG:root:line size: 22, 82\n",
      "DEBUG:root:max x dim so far: 22\n",
      "DEBUG:root:dimensions of text portion of image: (22, 82)\n",
      "DEBUG:root:hcenter line: .\n",
      "DEBUG:root:drawing text at 0, 0\n",
      "DEBUG:root:with dimensions: 22, 82\n",
      "DEBUG:root:pasting text portion at coordinates: 114, 22\n",
      "DEBUG:root:***forecast***)\n",
      "DEBUG:root:set text block\n",
      "INFO:root:TextBlock created\n",
      "DEBUG:root:no maxchar set\n",
      "DEBUG:root:calculating maximum characters for font ('Open Sans', 'Regular')\n",
      "DEBUG:root:maximum characters per line: 27\n",
      "DEBUG:root:formatting string: .\n",
      "DEBUG:root:formatted list:\n",
      " ['.']\n",
      "DEBUG:root:creating blank image area: (500, 250) with inverse: False\n",
      "DEBUG:root:line size: 9, 35\n",
      "DEBUG:root:max x dim so far: 9\n",
      "DEBUG:root:dimensions of text portion of image: (9, 35)\n",
      "DEBUG:root:drawing text at 0, 0\n",
      "DEBUG:root:with dimensions: 9, 35\n",
      "DEBUG:root:pasting text portion at coordinates: 0, 108\n"
     ]
    }
   ],
   "source": [
    "logging.debug('********************')\n",
    "# create a Layout object with a resolution of 500x500\n",
    "layout5x5 = epdlib.Layout(resolution=(500, 500), layout=l)\n",
    "# add a layout to the object\n",
    "layout5x5.layout=l\n",
    "\n"
   ]
  },
  {
   "cell_type": "code",
   "execution_count": 16,
   "metadata": {},
   "outputs": [
    {
     "name": "stderr",
     "output_type": "stream",
     "text": [
      "DEBUG:root:********************\n",
      "DEBUG:root:creating layout\n",
      "DEBUG:root:calculating layout for resolution (200, 150)\n",
      "DEBUG:root:layout id(2966586256)\n",
      "DEBUG:root:*****weather_img*****\n",
      "DEBUG:root:checking layout keys\n",
      "DEBUG:root:adding key: max_lines: 1\n",
      "DEBUG:root:adding key: padding: 0\n",
      "DEBUG:root:adding key: rand: False\n",
      "DEBUG:root:adding key: inverse: False\n",
      "DEBUG:root:adding key: font: None\n",
      "DEBUG:root:adding key: font_size: None\n",
      "DEBUG:root:adding key: maxchar: None\n",
      "DEBUG:root:adding key: dimensions: None\n",
      "DEBUG:root:dimensions: (100, 38)\n",
      "DEBUG:root:section has absolute coordinates\n",
      "DEBUG:root:coordinates: (0, 0)\n",
      "DEBUG:root:*****temperature*****\n",
      "DEBUG:root:checking layout keys\n",
      "DEBUG:root:adding key: rand: False\n",
      "DEBUG:root:adding key: inverse: False\n",
      "DEBUG:root:adding key: maxchar: None\n",
      "DEBUG:root:adding key: dimensions: None\n",
      "DEBUG:root:dimensions: (100, 38)\n",
      "DEBUG:root:section has calculated position\n",
      "DEBUG:root:coordinates: (0, 0)\n",
      "DEBUG:root:calculating maximum font size for area: (100, 38)\n",
      "DEBUG:root:using font: /home/pi/src/epdlib/fonts/Open_Sans/OpenSans-ExtraBold.ttf\n",
      "DEBUG:root:target X font dimension 117.64705882352942\n",
      "DEBUG:root:target Y font dimension 26.599999999999998\n",
      "DEBUG:root:Y target reached\n",
      "DEBUG:root:test string: W W W ; pixel dimensions for fontsize 24: (99, 27)\n",
      "DEBUG:root:*****forecast*****\n",
      "DEBUG:root:checking layout keys\n",
      "DEBUG:root:adding key: rand: False\n",
      "DEBUG:root:adding key: inverse: False\n",
      "DEBUG:root:adding key: maxchar: None\n",
      "DEBUG:root:adding key: dimensions: None\n",
      "DEBUG:root:dimensions: (200, 75)\n",
      "DEBUG:root:section has calculated position\n",
      "DEBUG:root:coordinates: (0, 0)\n",
      "DEBUG:root:calculating maximum font size for area: (200, 75)\n",
      "DEBUG:root:using font: /home/pi/src/epdlib/fonts/Open_Sans/OpenSans-Regular.ttf\n",
      "DEBUG:root:target X font dimension 235.29411764705884\n",
      "DEBUG:root:target Y font dimension 10.5\n",
      "DEBUG:root:Y target reached\n",
      "DEBUG:root:test string: W W W ; pixel dimensions for fontsize 9: (36, 11)\n",
      "DEBUG:root:***weather_img***)\n",
      "DEBUG:root:set image block\n",
      "INFO:root:Image Block Created\n",
      "DEBUG:root:image=None\n",
      "DEBUG:root:block area: (100, 38)\n",
      "DEBUG:root:no image provided, setting to blank image: (100, 38)\n",
      "DEBUG:root:***temperature***)\n",
      "DEBUG:root:set text block\n",
      "INFO:root:TextBlock created\n",
      "DEBUG:root:no maxchar set\n",
      "DEBUG:root:calculating maximum characters for font ('Open Sans', 'ExtraBold')\n",
      "DEBUG:root:maximum characters per line: 7\n",
      "DEBUG:root:formatting string: .\n",
      "DEBUG:root:formatted list:\n",
      " ['.']\n",
      "DEBUG:root:creating blank image area: (100, 38) with inverse: False\n",
      "DEBUG:root:line size: 7, 26\n",
      "DEBUG:root:max x dim so far: 7\n",
      "DEBUG:root:dimensions of text portion of image: (7, 26)\n",
      "DEBUG:root:hcenter line: .\n",
      "DEBUG:root:drawing text at 0, 0\n",
      "DEBUG:root:with dimensions: 7, 26\n",
      "DEBUG:root:pasting text portion at coordinates: 46, 6\n",
      "DEBUG:root:***forecast***)\n",
      "DEBUG:root:set text block\n",
      "INFO:root:TextBlock created\n",
      "DEBUG:root:no maxchar set\n",
      "DEBUG:root:calculating maximum characters for font ('Open Sans', 'Regular')\n",
      "DEBUG:root:maximum characters per line: 39\n",
      "DEBUG:root:formatting string: .\n",
      "DEBUG:root:formatted list:\n",
      " ['.']\n",
      "DEBUG:root:creating blank image area: (200, 75) with inverse: False\n",
      "DEBUG:root:line size: 2, 10\n",
      "DEBUG:root:max x dim so far: 2\n",
      "DEBUG:root:dimensions of text portion of image: (2, 10)\n",
      "DEBUG:root:drawing text at 0, 0\n",
      "DEBUG:root:with dimensions: 2, 10\n",
      "DEBUG:root:pasting text portion at coordinates: 0, 32\n"
     ]
    }
   ],
   "source": [
    "logging.debug('********************')\n",
    "# create a lyaout with a resolution of 300x150\n",
    "layout3x1 = epdlib.Layout(resolution=(200, 150))\n",
    "# use the same layout\n",
    "layout3x1.layout=l"
   ]
  },
  {
   "cell_type": "code",
   "execution_count": 8,
   "metadata": {},
   "outputs": [],
   "source": [
    "# create an update dictionary \n",
    "update = {\n",
    "    'weather_img': './Avatar_cloud.png',      # weather_img block will recieve a .png\n",
    "    'temperature': '15C',                     # temperature block will receive `15C`\n",
    "    'forecast': 'Partly cloudy throughout the day with an east wind at 3m/s. High of 20, 12 overnight.'\n",
    "}"
   ]
  },
  {
   "cell_type": "code",
   "execution_count": 17,
   "metadata": {},
   "outputs": [
    {
     "name": "stderr",
     "output_type": "stream",
     "text": [
      "DEBUG:root:********************\n",
      "INFO:root:updating blocks\n",
      "DEBUG:root:updating block: weather_img\n",
      "DEBUG:root:block area: (250, 125)\n",
      "DEBUG:root:max dimension of thumbnail: 125\n",
      "DEBUG:root:using image file: ./Avatar_cloud.png\n",
      "DEBUG:PIL.PngImagePlugin:STREAM b'IHDR' 16 13\n",
      "DEBUG:PIL.PngImagePlugin:STREAM b'IDAT' 41 7193\n",
      "DEBUG:root:creating thumbnail of image to fit in min dimension : 125\n",
      "DEBUG:root:final dimensions of resized image: (125, 125)\n",
      "DEBUG:root:starting with x: 0, y: 0\n",
      "DEBUG:root:h-center image\n",
      "DEBUG:root:v-center image\n",
      "DEBUG:root:pasting image into area at 62, 0\n",
      "DEBUG:root:updating block: temperature\n",
      "DEBUG:root:formatting string: 15C\n",
      "DEBUG:root:formatted list:\n",
      " ['15C']\n",
      "DEBUG:root:creating blank image area: (250, 125) with inverse: False\n",
      "DEBUG:root:line size: 137, 82\n",
      "DEBUG:root:max x dim so far: 137\n",
      "DEBUG:root:dimensions of text portion of image: (137, 82)\n",
      "DEBUG:root:hcenter line: 15C\n",
      "DEBUG:root:drawing text at 0, 0\n",
      "DEBUG:root:with dimensions: 137, 82\n",
      "DEBUG:root:pasting text portion at coordinates: 56, 22\n",
      "DEBUG:root:updating block: forecast\n",
      "DEBUG:root:formatting string: Partly cloudy throughout the day with an east wind at 3m/s. High of 20, 12 overnight.\n",
      "DEBUG:root:formatted list:\n",
      " ['Partly cloudy throughout', 'the day with an east wind', 'at 3m/s. High of 20, 12', 'overnight.']\n",
      "DEBUG:root:creating blank image area: (500, 250) with inverse: False\n",
      "DEBUG:root:line size: 370, 43\n",
      "DEBUG:root:max x dim so far: 370\n",
      "DEBUG:root:line size: 380, 43\n",
      "DEBUG:root:max x dim so far: 380\n",
      "DEBUG:root:line size: 333, 43\n",
      "DEBUG:root:line size: 152, 43\n",
      "DEBUG:root:dimensions of text portion of image: (380, 172)\n",
      "DEBUG:root:drawing text at 0, 0\n",
      "DEBUG:root:with dimensions: 370, 43\n",
      "DEBUG:root:drawing text at 0, 43\n",
      "DEBUG:root:with dimensions: 380, 43\n",
      "DEBUG:root:drawing text at 0, 86\n",
      "DEBUG:root:with dimensions: 333, 43\n",
      "DEBUG:root:drawing text at 0, 129\n",
      "DEBUG:root:with dimensions: 152, 43\n",
      "DEBUG:root:pasting text portion at coordinates: 0, 39\n",
      "DEBUG:root:********************\n",
      "INFO:root:updating blocks\n",
      "DEBUG:root:updating block: weather_img\n",
      "DEBUG:root:block area: (100, 38)\n",
      "DEBUG:root:max dimension of thumbnail: 38\n",
      "DEBUG:root:using image file: ./Avatar_cloud.png\n",
      "DEBUG:PIL.PngImagePlugin:STREAM b'IHDR' 16 13\n",
      "DEBUG:PIL.PngImagePlugin:STREAM b'IDAT' 41 7193\n",
      "DEBUG:root:creating thumbnail of image to fit in min dimension : 38\n",
      "DEBUG:root:final dimensions of resized image: (38, 38)\n",
      "DEBUG:root:starting with x: 0, y: 0\n",
      "DEBUG:root:h-center image\n",
      "DEBUG:root:v-center image\n",
      "DEBUG:root:pasting image into area at 31, 0\n",
      "DEBUG:root:updating block: temperature\n",
      "DEBUG:root:formatting string: 15C\n",
      "DEBUG:root:formatted list:\n",
      " ['15C']\n",
      "DEBUG:root:creating blank image area: (100, 38) with inverse: False\n",
      "DEBUG:root:line size: 44, 26\n",
      "DEBUG:root:max x dim so far: 44\n",
      "DEBUG:root:dimensions of text portion of image: (44, 26)\n",
      "DEBUG:root:hcenter line: 15C\n",
      "DEBUG:root:drawing text at 0, 0\n",
      "DEBUG:root:with dimensions: 44, 26\n",
      "DEBUG:root:pasting text portion at coordinates: 28, 6\n",
      "DEBUG:root:updating block: forecast\n",
      "DEBUG:root:formatting string: Partly cloudy throughout the day with an east wind at 3m/s. High of 20, 12 overnight.\n",
      "DEBUG:root:formatted list:\n",
      " ['Partly cloudy throughout the day with', 'an east wind at 3m/s. High of 20, 12', 'overnight.']\n",
      "DEBUG:root:creating blank image area: (200, 75) with inverse: False\n",
      "DEBUG:root:line size: 159, 12\n",
      "DEBUG:root:max x dim so far: 159\n",
      "DEBUG:root:line size: 145, 12\n",
      "DEBUG:root:line size: 43, 12\n",
      "DEBUG:root:dimensions of text portion of image: (159, 36)\n",
      "DEBUG:root:drawing text at 0, 0\n",
      "DEBUG:root:with dimensions: 159, 12\n",
      "DEBUG:root:drawing text at 0, 12\n",
      "DEBUG:root:with dimensions: 145, 12\n",
      "DEBUG:root:drawing text at 0, 24\n",
      "DEBUG:root:with dimensions: 43, 12\n",
      "DEBUG:root:pasting text portion at coordinates: 0, 20\n"
     ]
    }
   ],
   "source": [
    "logging.debug('********************')\n",
    "layout5x5.update_contents(update)\n",
    "\n",
    "logging.debug('********************')\n",
    "layout3x1.update_contents(update)"
   ]
  },
  {
   "cell_type": "code",
   "execution_count": 14,
   "metadata": {},
   "outputs": [
    {
     "name": "stderr",
     "output_type": "stream",
     "text": [
      "INFO:root:Screen created\n",
      "INFO:root:Screen created\n"
     ]
    }
   ],
   "source": [
    "screen5x5 = epdlib.Screen(resolution=(500, 500))\n",
    "screen3x1 = epdlib.Screen(resolution=(200, 150))"
   ]
  },
  {
   "cell_type": "code",
   "execution_count": null,
   "metadata": {},
   "outputs": [],
   "source": []
  },
  {
   "cell_type": "code",
   "execution_count": 18,
   "metadata": {},
   "outputs": [],
   "source": [
    "screen5x5.elements = layout5x5.blocks.values()\n",
    "\n",
    "screen3x1.elements = layout3x1.blocks.values()"
   ]
  },
  {
   "cell_type": "code",
   "execution_count": 19,
   "metadata": {},
   "outputs": [
    {
     "name": "stderr",
     "output_type": "stream",
     "text": [
      "DEBUG:root:pasting image at: (0, 0)\n",
      "DEBUG:root:pasting image at: (250, 0)\n",
      "DEBUG:root:pasting image at: (0, 125)\n"
     ]
    },
    {
     "data": {
      "image/png": "[encoded data removed]",
      "text/plain": [
       "<PIL.Image.Image image mode=L size=500x500 at 0xB29270D0>"
      ]
     },
     "execution_count": 19,
     "metadata": {},
     "output_type": "execute_result"
    }
   ],
   "source": [
    "screen5x5.concat()"
   ]
  },
  {
   "cell_type": "code",
   "execution_count": 20,
   "metadata": {},
   "outputs": [
    {
     "name": "stderr",
     "output_type": "stream",
     "text": [
      "DEBUG:root:pasting image at: (0, 0)\n",
      "DEBUG:root:pasting image at: (100, 0)\n",
      "DEBUG:root:pasting image at: (0, 38)\n"
     ]
    },
    {
     "data": {
      "image/png": "[encoded data removed]",
      "text/plain": [
       "<PIL.Image.Image image mode=L size=200x150 at 0xB0D33A90>"
      ]
     },
     "execution_count": 20,
     "metadata": {},
     "output_type": "execute_result"
    }
   ],
   "source": [
    "screen3x1.concat()"
   ]
  },
  {
   "cell_type": "code",
   "execution_count": null,
   "metadata": {},
   "outputs": [],
   "source": [
    "def dir2dict(obj):\n",
    "    d = {}\n",
    "    for i in dir(obj):\n",
    "        d[i] = id(i)\n",
    "    return d"
   ]
  },
  {
   "cell_type": "code",
   "execution_count": null,
   "metadata": {},
   "outputs": [],
   "source": [
    "def compare_obj(a, b):\n",
    "    d = []\n",
    "    for key in a: \n",
    "        if key in b:\n",
    "            if a[key] == b[key]:\n",
    "                d.append((key, a[key]))\n",
    "                \n",
    "    return d"
   ]
  },
  {
   "cell_type": "code",
   "execution_count": null,
   "metadata": {},
   "outputs": [],
   "source": [
    "a = dir2dict(layout5x5.blocks)\n",
    "b = dir2dict(layout3x1.blocks)"
   ]
  },
  {
   "cell_type": "code",
   "execution_count": null,
   "metadata": {},
   "outputs": [],
   "source": [
    "layout5x5.blocks"
   ]
  },
  {
   "cell_type": "code",
   "execution_count": null,
   "metadata": {},
   "outputs": [],
   "source": [
    "layout3x1.blocks"
   ]
  },
  {
   "cell_type": "code",
   "execution_count": null,
   "metadata": {},
   "outputs": [],
   "source": [
    "dir(layout5x5.blocks.values)"
   ]
  },
  {
   "cell_type": "code",
   "execution_count": null,
   "metadata": {},
   "outputs": [],
   "source": [
    "compare_obj(a, b)"
   ]
  },
  {
   "cell_type": "markdown",
   "metadata": {},
   "source": [
    "# IDEA:\n",
    "run through every property of item and check id and build a dictonary and look for each property \n",
    "\n"
   ]
  }
 ],
 "metadata": {
  "kernelspec": {
   "display_name": "epdlib-AIMLabQa",
   "language": "python",
   "name": "epdlib-aimlabqa"
  },
  "language_info": {
   "codemirror_mode": {
    "name": "ipython",
    "version": 3
   },
   "file_extension": ".py",
   "mimetype": "text/x-python",
   "name": "python",
   "nbconvert_exporter": "python",
   "pygments_lexer": "ipython3",
   "version": "3.7.3"
  }
 },
 "nbformat": 4,
 "nbformat_minor": 4
}
