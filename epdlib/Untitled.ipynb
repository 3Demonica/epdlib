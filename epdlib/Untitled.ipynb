{
 "cells": [
  {
   "cell_type": "code",
   "execution_count": 6,
   "metadata": {},
   "outputs": [],
   "source": [
    "import Block"
   ]
  },
  {
   "cell_type": "code",
   "execution_count": 7,
   "metadata": {},
   "outputs": [
    {
     "name": "stdout",
     "output_type": "stream",
     "text": [
      "Help on class ImageBlock in module Block:\n",
      "\n",
      "class ImageBlock(Block)\n",
      " |  ImageBlock(image=None, *args, **kwargs)\n",
      " |  \n",
      " |  Constructor for ImageBlock Class\n",
      " |  \n",
      " |  Child class of Block\n",
      " |  \n",
      " |  Individual image block used in assembling composite epdlib.Screen images \n",
      " |  when writing to a WaveShare ePaper display.\n",
      " |  \n",
      " |  ImageBlock objects are aware of their dimensions, absolute coordinates, and \n",
      " |  contain an grayscale PIL.Image object of the specified area.\n",
      " |  \n",
      " |  ImageBlock objects can format PIL.Image objects or jpeg/png or other supported\n",
      " |  image types.\n",
      " |  \n",
      " |  Format options include scaling, inverting and horizontal/vertical centering\n",
      " |  \n",
      " |  Overrides:\n",
      " |      image (:obj:`PIL.Image` or str): PIL image object or string path to image file\n",
      " |      upate (method): update contents of ImageBlock\n",
      " |  \n",
      " |  Method resolution order:\n",
      " |      ImageBlock\n",
      " |      Block\n",
      " |      builtins.object\n",
      " |  \n",
      " |  Methods defined here:\n",
      " |  \n",
      " |  __init__(self, image=None, *args, **kwargs)\n",
      " |      Initializes ImageBlock\n",
      " |  \n",
      " |  update(self, update=None)\n",
      " |      Update image data including coordinates (overrides base class)\n",
      " |      \n",
      " |      Args:\n",
      " |          update (:obj:`PIL.Image` or str): image or string containing path to image file\n",
      " |  \n",
      " |  ----------------------------------------------------------------------\n",
      " |  Data descriptors defined here:\n",
      " |  \n",
      " |  image\n",
      " |      :obj:`PIL.Image`: grayscale formatted image object\n",
      " |      \n",
      " |      property accepts a PIL image object or string path to image file\n",
      " |          \n",
      " |      Sets:\n",
      " |          dimension (:obj:`tuple` of :obj:`int`): dimension in pixles of image\n",
      " |  \n",
      " |  ----------------------------------------------------------------------\n",
      " |  Data descriptors inherited from Block:\n",
      " |  \n",
      " |  __dict__\n",
      " |      dictionary for instance variables (if defined)\n",
      " |  \n",
      " |  __weakref__\n",
      " |      list of weak references to the object (if defined)\n",
      " |  \n",
      " |  abs_coordinates\n",
      " |      :obj:`tuple` of :obj:`int`: absolute_coordinates of area within larger image.\n",
      " |      \n",
      " |      Raises:\n",
      " |          TypeError: if not a tuple of int\n",
      " |          ValueError: if ints are not positive\n",
      " |  \n",
      " |  area\n",
      " |      :obj:`tuple` of :obj:`int`: area in pixles of imageblock\n",
      " |      \n",
      " |      Raises:\n",
      " |          TypeError: if not a tuple of int\n",
      " |          ValueError: if ints are not positive\n",
      " |  \n",
      " |  inverse\n",
      " |      :obj:`boolean`: True - invert black and white pixles\n",
      " |      \n",
      " |      Sets properties:\n",
      " |          fill (int): fill color (0: black, 255: white)\n",
      " |          bkground (int): background color (0: black, 255: white)\n",
      "\n"
     ]
    }
   ],
   "source": [
    "help(Block.ImageBlock)"
   ]
  },
  {
   "cell_type": "code",
   "execution_count": 5,
   "metadata": {},
   "outputs": [
    {
     "name": "stderr",
     "output_type": "stream",
     "text": [
      "DEBUG:root:block area: (600, 448)\n",
      "DEBUG:root:set inverse: False\n",
      "DEBUG:root:absolute coordinates: (0, 0)\n",
      "DEBUG:root:no image provided - setting to blank image: (600, 448)\n",
      "INFO:root:ImageBlock created\n",
      "DEBUG:root:no image provided - setting to blank image: (600, 448)\n"
     ]
    }
   ],
   "source": [
    "i = Block.ImageBlock(rand=True)"
   ]
  },
  {
   "cell_type": "code",
   "execution_count": 4,
   "metadata": {},
   "outputs": [],
   "source": [
    "i.rand = True"
   ]
  },
  {
   "cell_type": "code",
   "execution_count": null,
   "metadata": {},
   "outputs": [],
   "source": []
  }
 ],
 "metadata": {
  "kernelspec": {
   "display_name": "slimpi_epd-b1Rf9la8",
   "language": "python",
   "name": "slimpi_epd-b1rf9la8"
  },
  "language_info": {
   "codemirror_mode": {
    "name": "ipython",
    "version": 3
   },
   "file_extension": ".py",
   "mimetype": "text/x-python",
   "name": "python",
   "nbconvert_exporter": "python",
   "pygments_lexer": "ipython3",
   "version": "3.7.3"
  }
 },
 "nbformat": 4,
 "nbformat_minor": 4
}
