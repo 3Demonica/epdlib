{
 "cells": [
  {
   "cell_type": "code",
   "execution_count": 1,
   "metadata": {},
   "outputs": [],
   "source": [
    "%load_ext autoreload\n",
    "%autoreload 2\n",
    "\n",
    "%reload_ext autoreload"
   ]
  },
  {
   "cell_type": "code",
   "execution_count": null,
   "metadata": {},
   "outputs": [],
   "source": [
    "# !git status"
   ]
  },
  {
   "cell_type": "code",
   "execution_count": null,
   "metadata": {},
   "outputs": [],
   "source": [
    "# !git pull"
   ]
  },
  {
   "cell_type": "code",
   "execution_count": 2,
   "metadata": {},
   "outputs": [
    {
     "data": {
      "application/javascript": [
       "IPython.notebook.save_checkpoint();"
      ],
      "text/plain": [
       "<IPython.core.display.Javascript object>"
      ]
     },
     "metadata": {},
     "output_type": "display_data"
    },
    {
     "name": "stdout",
     "output_type": "stream",
     "text": [
      "On branch development\r\n",
      "Your branch is up to date with 'origin/development'.\r\n",
      "\r\n",
      "Changes not staged for commit:\r\n",
      "\t\u001b[31mmodified:   ../Pipfile\u001b[m\r\n",
      "\r\n",
      "Untracked files:\r\n",
      "\t\u001b[31mfonts\u001b[m\r\n",
      "\r\n",
      "no changes added to commit\r\n"
     ]
    }
   ],
   "source": [
    "from IPython.display import display, Javascript\n",
    "display(Javascript('IPython.notebook.save_checkpoint();'))\n",
    "!git commit -m \"confirm rotation works on non-hd display\" Screen_new.ipynb"
   ]
  },
  {
   "cell_type": "code",
   "execution_count": null,
   "metadata": {},
   "outputs": [],
   "source": [
    "!git push"
   ]
  },
  {
   "cell_type": "code",
   "execution_count": 3,
   "metadata": {},
   "outputs": [],
   "source": [
    "import logging\n",
    "from PIL import Image, ImageDraw\n",
    "import time\n"
   ]
  },
  {
   "cell_type": "code",
   "execution_count": null,
   "metadata": {
    "code_folding": [
     0
    ]
   },
   "outputs": [],
   "source": [
    "# import pkgutil\n",
    "\n",
    "# import importlib\n",
    "# import inspect\n",
    "\n",
    "# import waveshare_epd\n",
    "# from importlib import import_module\n",
    "# non_hd = []\n",
    "# for i in pkgutil.iter_modules(waveshare_epd.__path__):\n",
    "#     non_hd.append(i.name)\n",
    "\n",
    "\n",
    "# for i in non_hd:\n",
    "    \n",
    "#     if i.startswith('epd') and not i.startswith('epdconfig'):\n",
    "#         print(i)\n",
    "#         myepd = import_module(f'waveshare_epd.{i}')\n",
    "#         try:\n",
    "#             print('display: ',inspect.getfullargspec(myepd.EPD.display).args)\n",
    "#         except AttributeError:\n",
    "#             try:\n",
    "#                 print('DISPLAY: ', inspect.getfullargspec(myepd.EPD.Display).args)\n",
    "#             except AttributeError:\n",
    "#                 print('display: unknown')\n",
    "#         try:\n",
    "# #             print('clear: ', inspect.getfullargspec(myepd.EPD.clear).args)\n",
    "# #         except AttributeError:\n",
    "#             print('CLEAR: ', inspect.getfullargspec(myepd.EPD.Clear).args)\n",
    "#         except AttributeError:\n",
    "#             print('clear: unknown')\n",
    "            \n",
    "#         print('\\n')"
   ]
  },
  {
   "cell_type": "code",
   "execution_count": null,
   "metadata": {},
   "outputs": [],
   "source": []
  },
  {
   "cell_type": "code",
   "execution_count": 4,
   "metadata": {
    "code_folding": [
     0
    ]
   },
   "outputs": [],
   "source": [
    "def strict_enforce(*types):\n",
    "    \"\"\"strictly enforce type compliance within classes\n",
    "    \n",
    "    Usage:\n",
    "    @strict_enforce(type1, type2, (type3, type4))\n",
    "    def foo(val1, val2, val4):\n",
    "        ...\n",
    "    \"\"\"\n",
    "    def decorator(f):\n",
    "        def new_f(self, *args, **kwds):\n",
    "            #we need to convert args into something mutable   \n",
    "            newargs = []        \n",
    "            for (a, t) in zip(args, types):\n",
    "                if not isinstance(a, t):\n",
    "                    raise TypeError(f'\"{a}\" is not type {t}')\n",
    "#                 newargs.append( t(a)) #feel free to have more elaborated convertion\n",
    "            return f(self, *args, **kwds)\n",
    "        return new_f\n",
    "    return decorator"
   ]
  },
  {
   "cell_type": "code",
   "execution_count": null,
   "metadata": {},
   "outputs": [],
   "source": [
    "class ScreenShot:\n",
    "    \"\"\"capture a rolling set of `n` screenshots into specified directory\"\"\"\n",
    "    def __init__(self, path='./', n=2, prefix=None):\n",
    "        \"\"\"constructor method \n",
    "        Properties:\n",
    "            path (:str:): location to save screenshots - default: './'\n",
    "            n (:int:): number of screenshots to keep - default: 2\n",
    "            img_array (:obj:list of :obj: `Path`): list of existing files\n",
    "            \"\"\"\n",
    "        self.total = n\n",
    "        self.path = Path(path).expanduser().resolve()\n",
    "        self.prefix = prefix\n",
    "        \n",
    "    \n",
    "    @property\n",
    "    def total(self):\n",
    "        \"\"\"total number of screenshots to save\n",
    "        Attribute:\n",
    "            n (int): integer >= 1\n",
    "        Rasises:\n",
    "            TypeError - n must be integer\n",
    "            ValueError - n must be positive\"\"\"\n",
    "        return self._total\n",
    "    \n",
    "    @total.setter\n",
    "    @strict_enforce(int)\n",
    "    def total(self, n):\n",
    "        if n < 1:\n",
    "            raise ValueError(f'`n` must be >= 1')\n",
    "    \n",
    "        self._total = n\n",
    "        self.img_array = []\n",
    "\n",
    "    def time(self): \n",
    "        \"\"\"returns time string in the format YY-MM-DD_HHMM.SS - 70-12-31_1359.03\"\"\"\n",
    "        return datetime.now().strftime(\"%y-%m-%d_%H%M.%S\")\n",
    "        \n",
    "    def delete(self, img):\n",
    "        \"\"\"deletes `img`\n",
    "        Attributes:\n",
    "            img (:obj: `Path`): unilinks/deletes the path\"\"\"\n",
    "        logging.debug(f'removing image: {img}')\n",
    "        try:\n",
    "            img.unlink()\n",
    "        except Exception as e:\n",
    "            logging.error(e)\n",
    "        pass\n",
    "        \n",
    "    def save(self, img):\n",
    "        \"\"\"saves the most recent `n` images, deleting n+1 older image\n",
    "        \n",
    "        Attributes:\n",
    "            img (:obj: PIL.Image.Image): image to save\n",
    "        Raises:\n",
    "            TypeError - img must be of type Image.Image\"\"\"\n",
    "        if not isinstance(img, Image.Image):\n",
    "            raise TypeError(f'`img` must be of type Image.Image')\n",
    "            \n",
    "        filename = self.time() + '.png'\n",
    "        \n",
    "        if self.prefix:\n",
    "            filename = prefix + filename\n",
    "\n",
    "        filepath = self.path / filename\n",
    "        logging.debug(f'writing image: {filepath}')\n",
    "        img.save(filepath)\n",
    "        self.img_array.insert(0, filepath)\n",
    "        if len(self.img_array) > self.total:\n",
    "            self.delete(self.img_array.pop())"
   ]
  },
  {
   "cell_type": "code",
   "execution_count": 5,
   "metadata": {},
   "outputs": [],
   "source": [
    "class ScreenError(Exception):\n",
    "    pass"
   ]
  },
  {
   "cell_type": "code",
   "execution_count": 6,
   "metadata": {
    "code_folding": [
     0
    ]
   },
   "outputs": [],
   "source": [
    "class Update:\n",
    "    \"\"\"Class for creating a montotonicaly aware object that records passage of time\n",
    "    \n",
    "    create an update aware object:\n",
    "        myObj = Update()\n",
    "        \n",
    "    Time since creation:\n",
    "        myObj.age\n",
    "        \n",
    "    Time since last updated:\n",
    "        myObj.last_updated\n",
    "        \n",
    "    \n",
    "    Update the object:\n",
    "        myObj.update = True\"\"\"\n",
    "    \n",
    "    def __init__(self):\n",
    "        '''constructor for Update class\n",
    "        \n",
    "        Properties:\n",
    "            start (float): floating point number in CLOCK_MONOTONIC time.\n",
    "                this is a fixed point in time the object was created\n",
    "            update (boolean): indicates that the object has been updated'''\n",
    "            \n",
    "        self.start = self.now\n",
    "        self.update()\n",
    "        \n",
    "    @property\n",
    "    def age(self):\n",
    "        \"\"\"age of the object in seconds since created\"\"\"\n",
    "        return self.now - self.start\n",
    "    \n",
    "    @property\n",
    "    def now(self):\n",
    "        \"\"\"time in CLOCK_MONOTONIC time\"\"\"\n",
    "        return time.clock_gettime(time.CLOCK_MONOTONIC)\n",
    "    \n",
    "    @property\n",
    "    def last_updated(self):\n",
    "        \"\"\"seconds since object was last updated\"\"\"\n",
    "        return self.now - self._last_updated\n",
    "    \n",
    "#     @last_updated.setter\n",
    "    def update(self):\n",
    "        \"\"\"update the object   \n",
    "        Args:\n",
    "            update(boolean): True updates object\"\"\"\n",
    "        self._last_updated = self.now\n",
    "    "
   ]
  },
  {
   "cell_type": "code",
   "execution_count": 30,
   "metadata": {
    "code_folding": [
     68,
     86
    ]
   },
   "outputs": [],
   "source": [
    "class Screen():\n",
    "    def __init__(self, epd='None', rotation=0, mode='1', vcom=0.0):\n",
    "        self.vcom = vcom\n",
    "        self.one_bit_display = True\n",
    "        self.constants = None\n",
    "        self.mode = mode\n",
    "        self.image = None\n",
    "        self.hd = False\n",
    "        self.resolution = []\n",
    "        self.HD = False\n",
    "        self.epd = epd\n",
    "        self.rotation = rotation\n",
    "        \n",
    "        \n",
    "    @property\n",
    "    def vcom(self):\n",
    "        return self._vcom\n",
    "\n",
    "    @vcom.setter\n",
    "    @strict_enforce(float)\n",
    "    def vcom(self, vcom):\n",
    "        if vcom==0:\n",
    "            self._vcom = None\n",
    "        elif vcom > 0:\n",
    "            raise ValueError(f'vcom must be a negative float value: {vcom}')\n",
    "        else:\n",
    "            self._vcom = vcom\n",
    "\n",
    "    @property\n",
    "    def rotation(self):\n",
    "        return self._rotation\n",
    "    \n",
    "    @rotation.setter\n",
    "    @strict_enforce(int)\n",
    "    def rotation(self, rotation):\n",
    "        if rotation not in [-90, 0, 90, 180, 270]:\n",
    "            raise ValueError(f'valid rotation values are [-90, 0, 90, 180, 270]')\n",
    "        \n",
    "        if rotation in [90, -90, 270]:\n",
    "            resolution = self.resolution\n",
    "            resolution.sort()\n",
    "            self.resolution = resolution\n",
    "        else:\n",
    "            resolution = self.resolution\n",
    "            resolution.sort(reverse=True)\n",
    "            self.resolution = resolution\n",
    "            \n",
    "        self.image = Image.new('L', self.resolution, 255)\n",
    "        if not self.HD:\n",
    "            self.buffer_no_image = self.epd.getbuffer(self.blank_image())\n",
    "\n",
    "        self._rotation = rotation\n",
    "        logging.debug(f'rotation={rotation}, resolution={self.resolution}')\n",
    "            \n",
    "    @property\n",
    "    def epd(self):\n",
    "        return self._epd\n",
    "\n",
    "    @epd.setter\n",
    "    @strict_enforce(str)\n",
    "    def epd(self, epd):\n",
    "        myepd = None\n",
    "        if epd=='HD':\n",
    "            if not self.vcom:\n",
    "                raise ScreenError('no vcom value is set (see the cable on your display for a vcom value)')\n",
    "            self.HD = True\n",
    "            myepd = self._epd_hd(epd)\n",
    "            \n",
    "        elif epd == 'None':\n",
    "            myepd = None\n",
    "        else:\n",
    "            myepd = self._epd_non_hd(epd)\n",
    "\n",
    "        if myepd:\n",
    "            # set the resolution \n",
    "            self._epd = myepd['epd']\n",
    "            resolution = myepd['resolution']\n",
    "            resolution.sort(reverse=True)\n",
    "            self.resolution = resolution\n",
    "            self.clear_args = myepd['clear_args']\n",
    "            self.constants = myepd['constants']\n",
    "            self.one_bit_display = myepd['one_bit_display']\n",
    "            \n",
    "            logging.debug(f'epd configuration: {myepd}')\n",
    "            \n",
    "            # set a blank image as default\n",
    "            self.image = Image.new('L', self.resolution, 255)\n",
    "            if self.HD:\n",
    "                self.buffer_no_image = []\n",
    "            else:\n",
    "                self.buffer_no_image = self.epd.getbuffer(self.blank_image())\n",
    "        else:\n",
    "            logging.warning('no valid epd is currently configured')\n",
    "            \n",
    "    def initEPD(self):\n",
    "        '''init the EPD for writing'''\n",
    "        if not self.epd:\n",
    "            raise UnboundLocalError('no epd object has been assigned')\n",
    "            \n",
    "        if self.HD:\n",
    "            self._epd.epd.run()\n",
    "        else:\n",
    "            try:\n",
    "                self.epd.init()\n",
    "            except FileNotFoundError as e:\n",
    "                raise ScreenError('failed to open SPI bus - is spi enabled in raspi-config?')\n",
    "#                 logging.error(f'failed to init epd: {e}: error: {type(e)}')\n",
    "\n",
    "        logging.info(f'epd initialized')\n",
    "            \n",
    "        return True            \n",
    "\n",
    "    def clearEPD(self):\n",
    "        if self.HD:\n",
    "            self._epd.epd.run()\n",
    "            self._epd.clear()\n",
    "        else:\n",
    "            try:\n",
    "                self.initEPD()\n",
    "                self.epd.Clear(**self.clear_args)\n",
    "            # FIXME -- more explicit output here on failure\n",
    "            except Exception as e:\n",
    "                logging.error(f'failed to clear epd: {e}')\n",
    "                return False\n",
    "        return True\n",
    "        \n",
    "    \n",
    "    def blank_image(self):\n",
    "        '''generate PIL image that is entirely blank'''\n",
    "        return Image.new(self.mode, self.resolution, 255)\n",
    "            \n",
    "            \n",
    "\n",
    "    def writeEPD(self, image=None, sleep=True, partial=False):\n",
    "        '''write an image to the screen after clearing previous\n",
    "        \n",
    "            Non-hd screens should be put to sleep after writing to prevent\n",
    "            damage to the panel.\n",
    "        \n",
    "        Args:\n",
    "            image(PIL image): image to display\n",
    "            sleep(bool) Put display to sleep after updating\n",
    "            \n",
    "            '''\n",
    "        if not image:\n",
    "            raise ScreenError('No image provided')\n",
    "            \n",
    "        if not self.epd:\n",
    "            raise UnboundLocalError('no epd has been assigned')\n",
    "        \n",
    "        image = image.rotate(self.rotation, expand=True)\n",
    "#         if self.rotation in [180, -90]:\n",
    "#             image = image.rotate(180)\n",
    "        \n",
    "        if partial:\n",
    "            if self.HD:\n",
    "                self._partial_writeEPD_hd(image)\n",
    "            else:\n",
    "                logging.warning('partial update not available on non-hd displays')\n",
    "                self._full_writeEPD_non_hd(image)\n",
    "                    \n",
    "        else:\n",
    "            if self.HD:\n",
    "                self._full_writeEPD_hd(image)\n",
    "            else:\n",
    "                self._full_writeEPD_non_hd(image)\n",
    "                \n",
    "        if sleep:\n",
    "            logging.debug('putting display to sleep')\n",
    "            if self.HD:\n",
    "                self.epd.epd.sleep()\n",
    "            else:\n",
    "                self.epd.sleep()                \n",
    "                \n",
    " \n",
    "    def _partial_writeEPD_hd(self, image):\n",
    "        '''partial update, affects only changed black and white pixels with no flash\n",
    "        \n",
    "            uses waveform DU see: see: https://www.waveshare.net/w/upload/c/c4/E-paper-mode-declaration.pdf for display modes\n",
    "     '''\n",
    "        \n",
    "        self.epd.frame_buf = mylayout_hd.image\n",
    "        s.epd.draw_partial(s.constants.DisplayModes.DU)\n",
    "        \n",
    "        \n",
    "    \n",
    "    \n",
    "    def _full_writeEPD_hd(self, image):\n",
    "        '''redraw entire screen, no partial update with waveform GC16\n",
    "        \n",
    "            see: https://www.waveshare.net/w/upload/c/c4/E-paper-mode-declaration.pdf for display modes'''\n",
    "        # create a blank buffer image to write into\n",
    "        self.epd.frame_buf.paste(0xFF, box=(0, 0, self.resolution[0], self.resolution[1]))\n",
    "        \n",
    "        self.epd.frame_buf.paste(image, [0,0])\n",
    "\n",
    "\n",
    "        self.epd.frame_buf.paste(image, [0, 0])\n",
    "\n",
    "        self.initEPD()\n",
    "        logging.debug('writing to display using GC16 (full display update)')\n",
    "        self.epd.draw_full(s.constants.DisplayModes.GC16)\n",
    "            \n",
    "        return True\n",
    "        \n",
    "    def _full_writeEPD_non_hd(self, image):\n",
    "        '''redraw entire screen'''\n",
    "        image_buffer = self.epd.getbuffer(image)\n",
    "        self.initEPD()\n",
    "        if self.one_bit_display:\n",
    "            self.epd.display(image_buffer)\n",
    "        else:\n",
    "            # send a blank image to colored layer\n",
    "            self.epd.display(image_buffer, self.buffer_no_image)\n",
    "        \n",
    "        return True\n",
    "        \n",
    "    \n",
    "    def _epd_hd(self, epd):\n",
    "        from IT8951.display import AutoEPDDisplay\n",
    "        from IT8951 import constants as constants_HD\n",
    "        myepd = AutoEPDDisplay(vcom=self.vcom)\n",
    "        resolution = list(myepd.display_dims)\n",
    "        clear_args = {}\n",
    "        one_bit_display = False\n",
    "        \n",
    "        return {'epd': myepd, \n",
    "                'resolution': resolution, \n",
    "                'clear_args': clear_args, \n",
    "                'one_bit_display': one_bit_display,\n",
    "                'constants': constants_HD}    \n",
    "                    \n",
    "    def _epd_non_hd(self, epd):\n",
    "        import waveshare_epd\n",
    "        import pkgutil\n",
    "        import inspect\n",
    "        from importlib import import_module\n",
    "        non_hd = []\n",
    "        for i in pkgutil.iter_modules(waveshare_epd.__path__):\n",
    "            non_hd.append(i.name)\n",
    "\n",
    "        if epd in non_hd:\n",
    "            myepd = import_module(f'waveshare_epd.{epd}')\n",
    "            resolution = [myepd.EPD_HEIGHT,myepd.EPD_WIDTH]\n",
    "            \n",
    "            # set kwargs for screens that expect color or mode arguments to the clear function\n",
    "            try:\n",
    "                clear_args_spec = inspect.getfullargspec(myepd.EPD.Clear)\n",
    "            except AttributeError:\n",
    "                raise ScreenError(f'\"{epd}\" has an unsupported `EPD.Clear()` function')\n",
    "            clear_args = {}\n",
    "            if 'color' in clear_args_spec:\n",
    "                clear_args['color'] = 0xFF\n",
    "                \n",
    "            try:\n",
    "                display_args_spec = inspect.getfullargspec(myepd.EPD.display)\n",
    "            except AttributeError:\n",
    "                raise ScreenError(f'\"{epd}\" has an unsupported `EPD.display()` function and is not usable with this module')\n",
    "            \n",
    "            logging.debug(f'args_spec: {display_args_spec.args}')\n",
    "            if len(display_args_spec.args) <= 2:\n",
    "                one_bit_display = True\n",
    "            else:\n",
    "                one_bit_display = False\n",
    "            \n",
    "        else:\n",
    "            raise ScreenError(f'invalid waveshare module: {epd}')\n",
    "            \n",
    "        return {'epd': myepd.EPD(), \n",
    "                'resolution': resolution, \n",
    "                'clear_args': clear_args,\n",
    "                'one_bit_display': one_bit_display,\n",
    "                'constants': None}"
   ]
  },
  {
   "cell_type": "code",
   "execution_count": null,
   "metadata": {},
   "outputs": [],
   "source": [
    "# # # add this to the hd write function\n",
    "# s.epd.frame_buf.paste(0xFF, box=(0, 0, s.epd.width, s.epd.height))\n",
    "\n",
    "# i = mylayout_hd.concat()\n",
    "# s.epd.frame_buf.paste(i, [0, 0])\n",
    "\n",
    "# s.initEPD()\n",
    "# s.epd.draw_full(s.constants.DisplayModes.GC16)\n",
    "# # s.epd.clear()"
   ]
  },
  {
   "cell_type": "code",
   "execution_count": null,
   "metadata": {},
   "outputs": [],
   "source": [
    "# s.epd.clear()\n",
    "# s.epd.epd.sleep()"
   ]
  },
  {
   "cell_type": "code",
   "execution_count": 8,
   "metadata": {},
   "outputs": [],
   "source": [
    "import Layout"
   ]
  },
  {
   "cell_type": "code",
   "execution_count": 9,
   "metadata": {
    "code_folding": []
   },
   "outputs": [],
   "source": [
    "l = {\n",
    "    'text_a': {\n",
    "        'image': None,\n",
    "        'padding': 10, \n",
    "        'width': 1,\n",
    "        'height': 1/4,\n",
    "        'abs_coordinates': (0, 0),\n",
    "        'mode': '1',\n",
    "        'font': './fonts/Open_Sans/OpenSans-ExtraBold.ttf',\n",
    "        'max_lines': 3,\n",
    "        'fill': 0,\n",
    "        'font_size': None},\n",
    "    \n",
    "    'text_b': {\n",
    "        'image': None,\n",
    "        'padding': 10,\n",
    "        'inverse': True,\n",
    "        'width': 1,\n",
    "        'height': 1/4,\n",
    "        'abs_coordinates': (0, None),\n",
    "        'relative': ['text_b', 'text_a'],\n",
    "        'mode': '1',\n",
    "        'font': './fonts/Open_Sans/OpenSans-ExtraBold.ttf',\n",
    "        'max_lines': 3,\n",
    "        'font_size': None},\n",
    "    \n",
    "    'image_a': {\n",
    "        'image': True,\n",
    "        'width': 1/2,\n",
    "        'height': 1/2,\n",
    "        'mode': 'L',\n",
    "        'abs_coordinates': (0, None),\n",
    "        'relative': ['image_a', 'text_b'],\n",
    "        'scale_x': 1,\n",
    "        'hcenter': True,\n",
    "        'vcenter': True,\n",
    "        'inverse': True},\n",
    "    \n",
    "    'image_b': {\n",
    "        'image': True,\n",
    "        'width': 1/2,\n",
    "        'height': 1/2,\n",
    "        'mode': 'L',\n",
    "        'abs_coordinates': (None, None),\n",
    "        'relative': ['image_a', 'text_b'],\n",
    "        'bkground': 255,\n",
    "        'vcenter': True,\n",
    "        'hcenter': True},\n",
    "        \n",
    "}\n",
    "\n",
    "u1 = {'text_a': 'The quick brown fox jumps over the lazy dog.',\n",
    "     'text_b': 'Pack my box with five dozen liquor jugs. Jackdaws love my big sphinx of quartz.',\n",
    "     'image_a': '../images/PIA03519_small.jpg',\n",
    "     'image_b': '../images/portrait-pilot_SW0YN0Z5T0.jpg'}"
   ]
  },
  {
   "cell_type": "code",
   "execution_count": 31,
   "metadata": {},
   "outputs": [],
   "source": [
    "epd2in7 = Screen(epd='epd2in7', rotation=0)\n",
    "# epd2in7.clearEPD()"
   ]
  },
  {
   "cell_type": "code",
   "execution_count": 32,
   "metadata": {},
   "outputs": [
    {
     "data": {
      "image/png": "[encoded data removed]",
      "text/plain": [
       "<PIL.Image.Image image mode=L size=264x176 at 0x6F4870B0>"
      ]
     },
     "execution_count": 32,
     "metadata": {},
     "output_type": "execute_result"
    }
   ],
   "source": [
    "mylayout_non = Layout.Layout(resolution=epd2in7.resolution, layout=l)\n",
    "mylayout_non.layout = l\n",
    "mylayout_non.update_contents(u1)\n",
    "mylayout_non.concat()"
   ]
  },
  {
   "cell_type": "code",
   "execution_count": 16,
   "metadata": {},
   "outputs": [
    {
     "data": {
      "text/plain": [
       "True"
      ]
     },
     "execution_count": 16,
     "metadata": {},
     "output_type": "execute_result"
    }
   ],
   "source": [
    "epd2in7.initEPD()\n",
    "epd2in7.clearEPD()"
   ]
  },
  {
   "cell_type": "code",
   "execution_count": 17,
   "metadata": {},
   "outputs": [],
   "source": [
    "epd2in7.initEPD()\n",
    "epd2in7.writeEPD(mylayout_non.image)"
   ]
  },
  {
   "cell_type": "code",
   "execution_count": 33,
   "metadata": {},
   "outputs": [],
   "source": [
    "mylayout_non.update_contents(u2)"
   ]
  },
  {
   "cell_type": "code",
   "execution_count": 36,
   "metadata": {},
   "outputs": [],
   "source": [
    "mylayout_non.update_contents(u1)"
   ]
  },
  {
   "cell_type": "code",
   "execution_count": 37,
   "metadata": {},
   "outputs": [
    {
     "name": "stderr",
     "output_type": "stream",
     "text": [
      "WARNING:root:partial update not available on non-hd displays\n"
     ]
    }
   ],
   "source": [
    "epd2in7.initEPD()\n",
    "epd2in7.writeEPD(image=mylayout_non.concat(), partial=True)"
   ]
  },
  {
   "cell_type": "code",
   "execution_count": null,
   "metadata": {},
   "outputs": [],
   "source": [
    "s = Screen(epd='HD', vcom=-1.93, mode='L', rotation=0)"
   ]
  },
  {
   "cell_type": "code",
   "execution_count": null,
   "metadata": {},
   "outputs": [],
   "source": [
    "mylayout_hd = Layout.Layout(resolution=s.resolution, layout=l)\n",
    "mylayout_hd.update_contents(u1)\n",
    "mylayout_hd.concat()\n",
    "s.writeEPD(mylayout_hd.image, sleep=True)"
   ]
  },
  {
   "cell_type": "code",
   "execution_count": 19,
   "metadata": {},
   "outputs": [],
   "source": [
    "u2 = {'text_a': 'The five boxing wizards jump quickly. How vexingly quick daft zebras jump!',\n",
    "      'text_b': \"God help the noble Claudio! If he have caught the Benedick, it will cost him a thousand pound ere a be cured.\"}"
   ]
  },
  {
   "cell_type": "code",
   "execution_count": null,
   "metadata": {},
   "outputs": [],
   "source": [
    "mylayout_hd.update_contents(u2)"
   ]
  },
  {
   "cell_type": "code",
   "execution_count": 35,
   "metadata": {},
   "outputs": [
    {
     "ename": "NameError",
     "evalue": "name 'mylayout_hd' is not defined",
     "output_type": "error",
     "traceback": [
      "\u001b[0;31m---------------------------------------------------------------------------\u001b[0m",
      "\u001b[0;31mNameError\u001b[0m                                 Traceback (most recent call last)",
      "\u001b[0;32m<ipython-input-35-f17b394a0d31>\u001b[0m in \u001b[0;36m<module>\u001b[0;34m\u001b[0m\n\u001b[0;32m----> 1\u001b[0;31m \u001b[0mmylayout_hd\u001b[0m\u001b[0;34m.\u001b[0m\u001b[0mupdate_contents\u001b[0m\u001b[0;34m(\u001b[0m\u001b[0mu1\u001b[0m\u001b[0;34m)\u001b[0m\u001b[0;34m\u001b[0m\u001b[0;34m\u001b[0m\u001b[0m\n\u001b[0m",
      "\u001b[0;31mNameError\u001b[0m: name 'mylayout_hd' is not defined"
     ]
    }
   ],
   "source": [
    "mylayout_hd.update_contents(u1)"
   ]
  },
  {
   "cell_type": "code",
   "execution_count": null,
   "metadata": {},
   "outputs": [],
   "source": [
    "s.initEPD()\n",
    "s.writeEPD(image=mylayout_hd.concat(), partial=True)"
   ]
  },
  {
   "cell_type": "code",
   "execution_count": null,
   "metadata": {},
   "outputs": [],
   "source": [
    "mylayout_hd.concat()\n",
    "s.epd.frame_buf = mylayout_hd.image\n"
   ]
  },
  {
   "cell_type": "code",
   "execution_count": null,
   "metadata": {},
   "outputs": [],
   "source": [
    "# s.initEPD()\n",
    "s.clearEPD()"
   ]
  },
  {
   "cell_type": "code",
   "execution_count": null,
   "metadata": {},
   "outputs": [],
   "source": [
    "logger = logging.getLogger(__name__)\n",
    "logger.root.setLevel('DEBUG')"
   ]
  },
  {
   "cell_type": "code",
   "execution_count": null,
   "metadata": {},
   "outputs": [],
   "source": []
  }
 ],
 "metadata": {
  "kernelspec": {
   "display_name": "epdlib-AIMLabQa",
   "language": "python",
   "name": "epdlib-aimlabqa"
  },
  "language_info": {
   "codemirror_mode": {
    "name": "ipython",
    "version": 3
   },
   "file_extension": ".py",
   "mimetype": "text/x-python",
   "name": "python",
   "nbconvert_exporter": "python",
   "pygments_lexer": "ipython3",
   "version": "3.7.3"
  }
 },
 "nbformat": 4,
 "nbformat_minor": 4
}
