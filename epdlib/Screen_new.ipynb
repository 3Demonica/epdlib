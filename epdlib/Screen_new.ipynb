{
 "cells": [
  {
   "cell_type": "code",
   "execution_count": 1,
   "metadata": {},
   "outputs": [],
   "source": [
    "%load_ext autoreload\n",
    "%autoreload 2\n",
    "\n",
    "%reload_ext autoreload"
   ]
  },
  {
   "cell_type": "code",
   "execution_count": 2,
   "metadata": {},
   "outputs": [],
   "source": [
    "from PIL import Image, ImageDraw"
   ]
  },
  {
   "cell_type": "code",
   "execution_count": null,
   "metadata": {},
   "outputs": [],
   "source": [
    "import pkgutil"
   ]
  },
  {
   "cell_type": "code",
   "execution_count": null,
   "metadata": {},
   "outputs": [],
   "source": [
    "import importlib\n",
    "import inspect"
   ]
  },
  {
   "cell_type": "code",
   "execution_count": null,
   "metadata": {},
   "outputs": [],
   "source": [
    "import waveshare_epd\n",
    "from importlib import import_module\n",
    "non_hd = []\n",
    "for i in pkgutil.iter_modules(waveshare_epd.__path__):\n",
    "    non_hd.append(i.name)\n"
   ]
  },
  {
   "cell_type": "code",
   "execution_count": null,
   "metadata": {},
   "outputs": [],
   "source": [
    "for i in non_hd:\n",
    "    \n",
    "    if i.startswith('epd') and not i.startswith('epdconfig'):\n",
    "        print(i)\n",
    "        myepd = import_module(f'waveshare_epd.{i}')\n",
    "        try:\n",
    "            print('display: ',inspect.getfullargspec(myepd.EPD.display).args)\n",
    "        except AttributeError:\n",
    "            try:\n",
    "                print('DISPLAY: ', inspect.getfullargspec(myepd.EPD.Display).args)\n",
    "            except AttributeError:\n",
    "                print('display: unknown')\n",
    "        try:\n",
    "#             print('clear: ', inspect.getfullargspec(myepd.EPD.clear).args)\n",
    "#         except AttributeError:\n",
    "            print('CLEAR: ', inspect.getfullargspec(myepd.EPD.Clear).args)\n",
    "        except AttributeError:\n",
    "            print('clear: unknown')\n",
    "            \n",
    "        print('\\n')"
   ]
  },
  {
   "cell_type": "code",
   "execution_count": 3,
   "metadata": {},
   "outputs": [],
   "source": [
    "def strict_enforce(*types):\n",
    "    \"\"\"strictly enforce type compliance within classes\n",
    "    \n",
    "    Usage:\n",
    "    @strict_enforce(type1, type2, (type3, type4))\n",
    "    def foo(val1, val2, val4):\n",
    "        ...\n",
    "    \"\"\"\n",
    "    def decorator(f):\n",
    "        def new_f(self, *args, **kwds):\n",
    "            #we need to convert args into something mutable   \n",
    "            newargs = []        \n",
    "            for (a, t) in zip(args, types):\n",
    "                if not isinstance(a, t):\n",
    "                    raise TypeError(f'\"{a}\" is not type {t}')\n",
    "#                 newargs.append( t(a)) #feel free to have more elaborated convertion\n",
    "            return f(self, *args, **kwds)\n",
    "        return new_f\n",
    "    return decorator"
   ]
  },
  {
   "cell_type": "code",
   "execution_count": 4,
   "metadata": {},
   "outputs": [],
   "source": [
    "class ScreenError(Exception):\n",
    "    pass"
   ]
  },
  {
   "cell_type": "code",
   "execution_count": 69,
   "metadata": {},
   "outputs": [],
   "source": [
    "class Screen():\n",
    "    def __init__(self, epd='None', rotation=0, mode='1', vcom=0.0):\n",
    "        self.vcom = vcom\n",
    "        self.mode = mode\n",
    "        self.image = None\n",
    "        self.hd = False\n",
    "        self.resolution = []\n",
    "        self.HD = False\n",
    "        self.epd = epd\n",
    "        self.rotation = rotation\n",
    "        \n",
    "        \n",
    "    @property\n",
    "    def vcom(self):\n",
    "        return self._vcom\n",
    "\n",
    "    @vcom.setter\n",
    "    @strict_enforce(float)\n",
    "    def vcom(self, vcom):\n",
    "        if vcom==0:\n",
    "            self._vcom = None\n",
    "        elif vcom > 0:\n",
    "            raise ValueError(f'vcom must be a negative float value: {vcom}')\n",
    "        else:\n",
    "            self._vcom = vcom\n",
    "\n",
    "    @property\n",
    "    def epd(self):\n",
    "        return self._epd\n",
    "\n",
    "    @epd.setter\n",
    "    @strict_enforce(str)\n",
    "    def epd(self, epd):\n",
    "        myepd = None\n",
    "        if epd=='HD':\n",
    "            if not self.vcom:\n",
    "                raise ScreenError('no vcom value is set (see the cable on your display for a vcom value)')\n",
    "            self.HD = True\n",
    "            myepd = self._epd_hd(epd)\n",
    "            \n",
    "        elif epd == 'None':\n",
    "            myepd = None\n",
    "        else:\n",
    "            myepd = self._epd_non_hd(epd)\n",
    "\n",
    "        if myepd:\n",
    "            # set the resolution \n",
    "            self._epd = myepd['epd']\n",
    "            resolution = myepd['resolution']\n",
    "            resolution.sort(reverse=True)\n",
    "            self.resolution = resolution\n",
    "            \n",
    "            # set a blank image as default\n",
    "            self.image = Image.new('L', self.resolution, 255)\n",
    "            \n",
    "    def initEPD(self):\n",
    "        '''init the EPD for writing'''\n",
    "        if not self.epd:\n",
    "            raise UnboundLocalError('no epd object has been assigned')\n",
    "            \n",
    "        if self.HD:\n",
    "            self._epd.epd.run()\n",
    "        else:\n",
    "            try:\n",
    "                self.epd.init()\n",
    "            except Exception as e:\n",
    "                logging.error(f'failed to init epd: {e}')\n",
    "            else:\n",
    "                logging.info(f'{self.epd} initialized')\n",
    "            \n",
    "        return True            \n",
    "\n",
    "    def clearEPD(self):\n",
    "        if self.HD:\n",
    "            self._epd.epd.run()\n",
    "            self._epd.clear()\n",
    "        else:\n",
    "            try:\n",
    "                self.initEPD()\n",
    "                self.epd.Clear(**self.clear_args)\n",
    "            except Exception as e:\n",
    "                logging.error(f'failed to clear epd: {e}')\n",
    "                return False\n",
    "        return True\n",
    "        \n",
    "    \n",
    "    def blank_image(self):\n",
    "        '''generate PIL image that is entirely blank'''\n",
    "        return Image.new(self.mode, self.resolution, 255)\n",
    "            \n",
    "            \n",
    "    def _epd_hd(self, epd):\n",
    "        from IT8951.display import AutoEPDDisplay\n",
    "        from IT8951 import constants as constants_HD\n",
    "        myepd = AutoEPDDisplay(vcom=self.vcom)\n",
    "        resolution = list(myepd.display_dims)\n",
    "        clear_args = {}\n",
    "        one_bit_display = False\n",
    "        \n",
    "        return {'epd': myepd, \n",
    "                'resolution': resolution, \n",
    "                'clear_args': clear_args, \n",
    "                'one_bit_display': one_bit_display}\n",
    "            \n",
    "    def _epd_non_hd(self, epd):\n",
    "        import waveshare_epd\n",
    "        import pkgutil\n",
    "        import inspect\n",
    "        from importlib import import_module\n",
    "        non_hd = []\n",
    "        for i in pkgutil.iter_modules(waveshare_epd.__path__):\n",
    "            non_hd.append(i.name)\n",
    "\n",
    "        if epd in non_hd:\n",
    "            myepd = import_module(f'waveshare_epd.{epd}')\n",
    "            resolution = [myepd.EPD_HEIGHT,myepd.EPD_WIDTH]\n",
    "            \n",
    "            # set kwargs for screens that expect color or mode arguments to the clear function\n",
    "            try:\n",
    "                clear_args_spec = inspect.getfullargspec(myepd.EPD.Clear)\n",
    "            except AttributeError:\n",
    "                raise ScreenError(f'\"{epd}\" has an unsupported `EPD.Clear()` function')\n",
    "            clear_args = {}\n",
    "            if 'color' in clear_args_spec:\n",
    "                clear_args['color'] = 0xFF\n",
    "                \n",
    "            try:\n",
    "                display_args_spec = inspect.getfullargspec(myepd.EPD.display)\n",
    "            except AttributeError:\n",
    "                raise ScreenError(f'\"{epd}\" has an unsupported `EPD.display()` function')\n",
    "            if len(display_args_spec) > 2:\n",
    "                one_bit_display = True\n",
    "            else:\n",
    "                one_bit_display = False\n",
    "        else:\n",
    "            raise ScreenError(f'invalid waveshare module: {epd}')\n",
    "            \n",
    "        return {'epd': myepd.EPD(), \n",
    "                'resolution': resolution, \n",
    "                'clear_args': clear_args,\n",
    "                'one_bit_display': one_bit_display}"
   ]
  },
  {
   "cell_type": "code",
   "execution_count": 71,
   "metadata": {},
   "outputs": [],
   "source": [
    "s = Screen(epd='HD', vcom=-1.93)"
   ]
  },
  {
   "cell_type": "code",
   "execution_count": 72,
   "metadata": {},
   "outputs": [
    {
     "data": {
      "text/plain": [
       "True"
      ]
     },
     "execution_count": 72,
     "metadata": {},
     "output_type": "execute_result"
    }
   ],
   "source": [
    "s.clearEPD()"
   ]
  },
  {
   "cell_type": "code",
   "execution_count": 60,
   "metadata": {},
   "outputs": [],
   "source": [
    "q = s.epd"
   ]
  },
  {
   "cell_type": "code",
   "execution_count": 63,
   "metadata": {},
   "outputs": [],
   "source": [
    "q.epd.sleep()\n"
   ]
  },
  {
   "cell_type": "code",
   "execution_count": 66,
   "metadata": {},
   "outputs": [],
   "source": [
    "q.epd.run()"
   ]
  },
  {
   "cell_type": "code",
   "execution_count": 67,
   "metadata": {},
   "outputs": [],
   "source": [
    "q.clear()"
   ]
  },
  {
   "cell_type": "code",
   "execution_count": null,
   "metadata": {},
   "outputs": [],
   "source": [
    "s = Screen(vcom=-1.93, epd='HD')\n"
   ]
  },
  {
   "cell_type": "code",
   "execution_count": null,
   "metadata": {},
   "outputs": [],
   "source": [
    "s.resolution"
   ]
  },
  {
   "cell_type": "code",
   "execution_count": null,
   "metadata": {},
   "outputs": [],
   "source": []
  },
  {
   "cell_type": "code",
   "execution_count": null,
   "metadata": {},
   "outputs": [],
   "source": [
    "from IT8951.display import AutoEPDDisplay as AEDD"
   ]
  },
  {
   "cell_type": "code",
   "execution_count": null,
   "metadata": {},
   "outputs": [],
   "source": [
    "help (AEDD)"
   ]
  },
  {
   "cell_type": "code",
   "execution_count": null,
   "metadata": {},
   "outputs": [],
   "source": [
    "q.clear()"
   ]
  },
  {
   "cell_type": "code",
   "execution_count": null,
   "metadata": {},
   "outputs": [],
   "source": [
    "q = [100, 2]"
   ]
  },
  {
   "cell_type": "code",
   "execution_count": null,
   "metadata": {},
   "outputs": [],
   "source": [
    "q.sort(reverse=True)"
   ]
  },
  {
   "cell_type": "code",
   "execution_count": null,
   "metadata": {},
   "outputs": [],
   "source": [
    "q"
   ]
  },
  {
   "cell_type": "code",
   "execution_count": null,
   "metadata": {},
   "outputs": [],
   "source": []
  }
 ],
 "metadata": {
  "kernelspec": {
   "display_name": "epdlib-AIMLabQa",
   "language": "python",
   "name": "epdlib-aimlabqa"
  },
  "language_info": {
   "codemirror_mode": {
    "name": "ipython",
    "version": 3
   },
   "file_extension": ".py",
   "mimetype": "text/x-python",
   "name": "python",
   "nbconvert_exporter": "python",
   "pygments_lexer": "ipython3",
   "version": "3.7.3"
  }
 },
 "nbformat": 4,
 "nbformat_minor": 4
}
