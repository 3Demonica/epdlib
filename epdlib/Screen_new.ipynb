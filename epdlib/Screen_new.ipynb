{
 "cells": [
  {
   "cell_type": "code",
   "execution_count": 1,
   "metadata": {},
   "outputs": [],
   "source": [
    "%load_ext autoreload\n",
    "%autoreload 2\n",
    "\n",
    "%reload_ext autoreload"
   ]
  },
  {
   "cell_type": "code",
   "execution_count": null,
   "metadata": {},
   "outputs": [],
   "source": [
    "# !git status"
   ]
  },
  {
   "cell_type": "code",
   "execution_count": null,
   "metadata": {},
   "outputs": [],
   "source": [
    "# !git pull"
   ]
  },
  {
   "cell_type": "code",
   "execution_count": null,
   "metadata": {},
   "outputs": [],
   "source": [
    "# !git commit -m \"wri\" Screen_new.ipynb"
   ]
  },
  {
   "cell_type": "code",
   "execution_count": null,
   "metadata": {},
   "outputs": [],
   "source": [
    "# !git push"
   ]
  },
  {
   "cell_type": "code",
   "execution_count": 2,
   "metadata": {},
   "outputs": [],
   "source": [
    "import logging\n",
    "from PIL import Image, ImageDraw\n"
   ]
  },
  {
   "cell_type": "code",
   "execution_count": null,
   "metadata": {
    "code_folding": [
     0
    ]
   },
   "outputs": [],
   "source": [
    "# import pkgutil\n",
    "\n",
    "# import importlib\n",
    "# import inspect\n",
    "\n",
    "# import waveshare_epd\n",
    "# from importlib import import_module\n",
    "# non_hd = []\n",
    "# for i in pkgutil.iter_modules(waveshare_epd.__path__):\n",
    "#     non_hd.append(i.name)\n",
    "\n",
    "\n",
    "# for i in non_hd:\n",
    "    \n",
    "#     if i.startswith('epd') and not i.startswith('epdconfig'):\n",
    "#         print(i)\n",
    "#         myepd = import_module(f'waveshare_epd.{i}')\n",
    "#         try:\n",
    "#             print('display: ',inspect.getfullargspec(myepd.EPD.display).args)\n",
    "#         except AttributeError:\n",
    "#             try:\n",
    "#                 print('DISPLAY: ', inspect.getfullargspec(myepd.EPD.Display).args)\n",
    "#             except AttributeError:\n",
    "#                 print('display: unknown')\n",
    "#         try:\n",
    "# #             print('clear: ', inspect.getfullargspec(myepd.EPD.clear).args)\n",
    "# #         except AttributeError:\n",
    "#             print('CLEAR: ', inspect.getfullargspec(myepd.EPD.Clear).args)\n",
    "#         except AttributeError:\n",
    "#             print('clear: unknown')\n",
    "            \n",
    "#         print('\\n')"
   ]
  },
  {
   "cell_type": "code",
   "execution_count": 3,
   "metadata": {
    "code_folding": [
     0
    ]
   },
   "outputs": [],
   "source": [
    "def strict_enforce(*types):\n",
    "    \"\"\"strictly enforce type compliance within classes\n",
    "    \n",
    "    Usage:\n",
    "    @strict_enforce(type1, type2, (type3, type4))\n",
    "    def foo(val1, val2, val4):\n",
    "        ...\n",
    "    \"\"\"\n",
    "    def decorator(f):\n",
    "        def new_f(self, *args, **kwds):\n",
    "            #we need to convert args into something mutable   \n",
    "            newargs = []        \n",
    "            for (a, t) in zip(args, types):\n",
    "                if not isinstance(a, t):\n",
    "                    raise TypeError(f'\"{a}\" is not type {t}')\n",
    "#                 newargs.append( t(a)) #feel free to have more elaborated convertion\n",
    "            return f(self, *args, **kwds)\n",
    "        return new_f\n",
    "    return decorator"
   ]
  },
  {
   "cell_type": "code",
   "execution_count": 4,
   "metadata": {},
   "outputs": [],
   "source": [
    "class ScreenError(Exception):\n",
    "    pass"
   ]
  },
  {
   "cell_type": "code",
   "execution_count": 66,
   "metadata": {
    "code_folding": [
     68,
     86
    ]
   },
   "outputs": [],
   "source": [
    "class Screen():\n",
    "    def __init__(self, epd='None', rotation=0, mode='1', vcom=0.0):\n",
    "        self.vcom = vcom\n",
    "        self.one_bit_display = True\n",
    "        self.constants = None\n",
    "        self.mode = mode\n",
    "        self.image = None\n",
    "        self.hd = False\n",
    "        self.resolution = []\n",
    "        self.HD = False\n",
    "        self.epd = epd\n",
    "        self.rotation = rotation\n",
    "        \n",
    "        \n",
    "    @property\n",
    "    def vcom(self):\n",
    "        return self._vcom\n",
    "\n",
    "    @vcom.setter\n",
    "    @strict_enforce(float)\n",
    "    def vcom(self, vcom):\n",
    "        if vcom==0:\n",
    "            self._vcom = None\n",
    "        elif vcom > 0:\n",
    "            raise ValueError(f'vcom must be a negative float value: {vcom}')\n",
    "        else:\n",
    "            self._vcom = vcom\n",
    "\n",
    "    @property\n",
    "    def epd(self):\n",
    "        return self._epd\n",
    "\n",
    "    @epd.setter\n",
    "    @strict_enforce(str)\n",
    "    def epd(self, epd):\n",
    "        myepd = None\n",
    "        if epd=='HD':\n",
    "            if not self.vcom:\n",
    "                raise ScreenError('no vcom value is set (see the cable on your display for a vcom value)')\n",
    "            self.HD = True\n",
    "            myepd = self._epd_hd(epd)\n",
    "            \n",
    "        elif epd == 'None':\n",
    "            myepd = None\n",
    "        else:\n",
    "            myepd = self._epd_non_hd(epd)\n",
    "\n",
    "        if myepd:\n",
    "            # set the resolution \n",
    "            self._epd = myepd['epd']\n",
    "            resolution = myepd['resolution']\n",
    "            resolution.sort(reverse=True)\n",
    "            self.resolution = resolution\n",
    "            self.clear_args = myepd['clear_args']\n",
    "            self.constants = myepd['constants']\n",
    "            self.one_bit_display = myepd['one_bit_display']\n",
    "            \n",
    "            logging.debug(f'epd configuration: {myepd}')\n",
    "            \n",
    "            # set a blank image as default\n",
    "            self.image = Image.new('L', self.resolution, 255)\n",
    "            if self.HD:\n",
    "                self.buffer_no_image = []\n",
    "            else:\n",
    "                self.buffer_no_image = self.epd.getbuffer(self.blank_image())\n",
    "        else:\n",
    "            logging.warning('no valid epd is currently configured')\n",
    "            \n",
    "    def initEPD(self):\n",
    "        '''init the EPD for writing'''\n",
    "        if not self.epd:\n",
    "            raise UnboundLocalError('no epd object has been assigned')\n",
    "            \n",
    "        if self.HD:\n",
    "            self._epd.epd.run()\n",
    "        else:\n",
    "            try:\n",
    "                self.epd.init()\n",
    "            except FileNotFoundError as e:\n",
    "                raise ScreenError('failed to open SPI bus - is spi enabled in raspi-config?')\n",
    "#                 logging.error(f'failed to init epd: {e}: error: {type(e)}')\n",
    "\n",
    "        logging.info(f'epd initialized')\n",
    "            \n",
    "        return True            \n",
    "\n",
    "    def clearEPD(self):\n",
    "        if self.HD:\n",
    "            self._epd.epd.run()\n",
    "            self._epd.clear()\n",
    "        else:\n",
    "            try:\n",
    "                self.initEPD()\n",
    "                self.epd.Clear(**self.clear_args)\n",
    "            # FIXME -- more explicit output here on failure\n",
    "            except Exception as e:\n",
    "                logging.error(f'failed to clear epd: {e}')\n",
    "                return False\n",
    "        return True\n",
    "        \n",
    "    \n",
    "    def blank_image(self):\n",
    "        '''generate PIL image that is entirely blank'''\n",
    "        return Image.new(self.mode, self.resolution, 255)\n",
    "            \n",
    "            \n",
    "\n",
    "    def writeEPD(self, image=None, sleep=True):\n",
    "        '''write an image to the screen after clearing previous\n",
    "        \n",
    "            Non-hd screens should be put to sleep after writing to prevent\n",
    "            damage to the panel.\n",
    "        \n",
    "        Args:\n",
    "            image(PIL image): image to display\n",
    "            sleep(bool) Put display to sleep after updating\n",
    "            \n",
    "            '''\n",
    "        if not image:\n",
    "            raise ScreenError('No image provided')\n",
    "            \n",
    "        if not self.epd:\n",
    "            raise UnboundLocalError('no epd has been assigned')\n",
    "            \n",
    "        if self.HD:\n",
    "            self._writeEPD_hd(image, sleep)\n",
    "        else:\n",
    "            self._writeEPD_non_hd(image, sleep)\n",
    "            \n",
    "        \n",
    "    \n",
    "    def _writeEPD_hd(self, image, sleep):\n",
    "        '''redraw entire screen, no partial update with waveform GC16\n",
    "        \n",
    "            see: https://www.waveshare.net/w/upload/c/c4/E-paper-mode-declaration.pdf for display modes'''\n",
    "        # create a blank buffer image to write into\n",
    "        self.epd.frame_buf.paste(0xFF, box=(0, 0, self.resolution[0], self.resolution[1]))\n",
    "        \n",
    "        self.epd.frame_buf.paste(image, [0,0])\n",
    "\n",
    "\n",
    "        self.epd.frame_buf.paste(image, [0, 0])\n",
    "\n",
    "        self.initEPD()\n",
    "        logging.debug('writing to display using GC16 (full display update)')\n",
    "        self.epd.draw_full(s.constants.DisplayModes.GC16)\n",
    "        if sleep:\n",
    "            logging.debug('putting display to sleep')\n",
    "            self.epd.epd.sleep()\n",
    "            \n",
    "        return True\n",
    "        \n",
    "    def _writeEPD_non_hd(self, image, sleep):\n",
    "        '''redraw entire screen'''\n",
    "        image_buffer = self.epd.getbuffer(image)\n",
    "        self.initEPD()\n",
    "        if self.one_bit_display:\n",
    "            self.epd.display(image_buffer)\n",
    "        else:\n",
    "            # send a blank image to colored layer\n",
    "            self.epd.display(image_buffer, self.buffer_no_image)\n",
    "        \n",
    "        return True\n",
    "        \n",
    "    \n",
    "    def _epd_hd(self, epd):\n",
    "        from IT8951.display import AutoEPDDisplay\n",
    "        from IT8951 import constants as constants_HD\n",
    "        myepd = AutoEPDDisplay(vcom=self.vcom)\n",
    "        resolution = list(myepd.display_dims)\n",
    "        clear_args = {}\n",
    "        one_bit_display = False\n",
    "        \n",
    "        return {'epd': myepd, \n",
    "                'resolution': resolution, \n",
    "                'clear_args': clear_args, \n",
    "                'one_bit_display': one_bit_display,\n",
    "                'constants': constants_HD}    \n",
    "                    \n",
    "    def _epd_non_hd(self, epd):\n",
    "        import waveshare_epd\n",
    "        import pkgutil\n",
    "        import inspect\n",
    "        from importlib import import_module\n",
    "        non_hd = []\n",
    "        for i in pkgutil.iter_modules(waveshare_epd.__path__):\n",
    "            non_hd.append(i.name)\n",
    "\n",
    "        if epd in non_hd:\n",
    "            myepd = import_module(f'waveshare_epd.{epd}')\n",
    "            resolution = [myepd.EPD_HEIGHT,myepd.EPD_WIDTH]\n",
    "            \n",
    "            # set kwargs for screens that expect color or mode arguments to the clear function\n",
    "            try:\n",
    "                clear_args_spec = inspect.getfullargspec(myepd.EPD.Clear)\n",
    "            except AttributeError:\n",
    "                raise ScreenError(f'\"{epd}\" has an unsupported `EPD.Clear()` function')\n",
    "            clear_args = {}\n",
    "            if 'color' in clear_args_spec:\n",
    "                clear_args['color'] = 0xFF\n",
    "                \n",
    "            try:\n",
    "                display_args_spec = inspect.getfullargspec(myepd.EPD.display)\n",
    "            except AttributeError:\n",
    "                raise ScreenError(f'\"{epd}\" has an unsupported `EPD.display()` function and is not usable with this module')\n",
    "                \n",
    "            if len(display_args_spec.args) < 2:\n",
    "                one_bit_display = True\n",
    "            else:\n",
    "                one_bit_display = False\n",
    "            \n",
    "        else:\n",
    "            raise ScreenError(f'invalid waveshare module: {epd}')\n",
    "            \n",
    "        return {'epd': myepd.EPD(), \n",
    "                'resolution': resolution, \n",
    "                'clear_args': clear_args,\n",
    "                'one_bit_display': one_bit_display,\n",
    "                'constants': None}"
   ]
  },
  {
   "cell_type": "code",
   "execution_count": 56,
   "metadata": {},
   "outputs": [],
   "source": [
    "# # add this to the hd write function\n",
    "# s.epd.frame_buf.paste(0xFF, box=(0, 0, s.epd.width, s.epd.height))\n",
    "\n",
    "# i = mylayout_hd.concat()\n",
    "# s.epd.frame_buf.paste(i, [0, 0])\n",
    "\n",
    "# s.initEPD()\n",
    "# s.epd.draw_full(s.constants.DisplayModes.GC16)\n",
    "# # s.epd.clear()"
   ]
  },
  {
   "cell_type": "code",
   "execution_count": 53,
   "metadata": {},
   "outputs": [],
   "source": [
    "# s.epd.clear()\n",
    "# s.epd.epd.sleep()"
   ]
  },
  {
   "cell_type": "code",
   "execution_count": 7,
   "metadata": {},
   "outputs": [],
   "source": [
    "import Layout"
   ]
  },
  {
   "cell_type": "code",
   "execution_count": 20,
   "metadata": {
    "code_folding": [
     0
    ]
   },
   "outputs": [],
   "source": [
    "l = {\n",
    "    'text_a': {\n",
    "        'image': None,\n",
    "        'padding': 10, \n",
    "        'width': 1,\n",
    "        'height': 1/4,\n",
    "        'abs_coordinates': (0, 0),\n",
    "        'mode': 'L',\n",
    "        'font': './fonts/Open_Sans/OpenSans-ExtraBold.ttf',\n",
    "        'max_lines': 1,\n",
    "        'font_size': None,\n",
    "        'fill': 128},\n",
    "    \n",
    "    'text_b': {\n",
    "        'image': None,\n",
    "        'padding': 10,\n",
    "        'inverse': True,\n",
    "        'width': 1,\n",
    "        'height': 1/4,\n",
    "        'abs_coordinates': (0, None),\n",
    "        'relative': ['text_b', 'text_a'],\n",
    "        'mode': 'L',\n",
    "        'font': './fonts/Open_Sans/OpenSans-ExtraBold.ttf',\n",
    "        'max_lines': 3,\n",
    "        'font_size': None},\n",
    "    \n",
    "    'image_a': {\n",
    "        'image': True,\n",
    "        'width': 1/2,\n",
    "        'height': 1/2,\n",
    "        'mode': 'L',\n",
    "        'abs_coordinates': (0, None),\n",
    "        'relative': ['image_a', 'text_b'],\n",
    "        'scale_x': 1,\n",
    "        'hcenter': True,\n",
    "        'inverse': True},\n",
    "    \n",
    "    'image_b': {\n",
    "        'image': True,\n",
    "        'width': 1/2,\n",
    "        'height': 1/2,\n",
    "        'mode': 'L',\n",
    "        'abs_coordinates': (None, None),\n",
    "        'relative': ['image_a', 'text_b'],\n",
    "        'bkground': 0,\n",
    "        'vcenter': True},\n",
    "        \n",
    "}\n",
    "\n",
    "u1 = {'text_a': 'The quick brown fox jumps over the lazy dog.',\n",
    "     'text_b': 'Pack my box with five dozen liquor jugs. Jackdaws love my big sphinx of quartz.',\n",
    "     'image_a': '../images/PIA03519_small.jpg',\n",
    "     'image_b': '../images/hubble.jpg'}"
   ]
  },
  {
   "cell_type": "code",
   "execution_count": 67,
   "metadata": {},
   "outputs": [
    {
     "name": "stderr",
     "output_type": "stream",
     "text": [
      "DEBUG:root:epd configuration: {'epd': <waveshare_epd.epd2in7b.EPD object at 0x6f6ff5d0>, 'resolution': [264, 176], 'clear_args': {}, 'one_bit_display': False, 'constants': None}\n",
      "DEBUG:root:Horizontal\n"
     ]
    }
   ],
   "source": [
    "epd2in7 = Screen(epd='epd2in7b')\n",
    "# epd2in7.clearEPD()"
   ]
  },
  {
   "cell_type": "code",
   "execution_count": 68,
   "metadata": {},
   "outputs": [
    {
     "data": {
      "text/plain": [
       "False"
      ]
     },
     "execution_count": 68,
     "metadata": {},
     "output_type": "execute_result"
    }
   ],
   "source": [
    "epd2in7.one_bit_display"
   ]
  },
  {
   "cell_type": "code",
   "execution_count": 22,
   "metadata": {},
   "outputs": [
    {
     "name": "stderr",
     "output_type": "stream",
     "text": [
      "DEBUG:root:creating layout\n",
      "DEBUG:root:calculating layout for resolution [264, 176]\n",
      "DEBUG:root:layout id(1871094720)\n",
      "DEBUG:root:*****text_a*****\n",
      "DEBUG:root:checking layout keys\n",
      "DEBUG:root:adding key: hcenter: False\n",
      "DEBUG:root:adding key: vcenter: False\n",
      "DEBUG:root:adding key: rand: False\n",
      "DEBUG:root:adding key: inverse: False\n",
      "DEBUG:root:adding key: relative: False\n",
      "DEBUG:root:adding key: maxchar: None\n",
      "DEBUG:root:adding key: dimensions: None\n",
      "DEBUG:root:adding key: scale_x: None\n",
      "DEBUG:root:adding key: scale_y: None\n",
      "DEBUG:root:adding key: bkground: 255\n",
      "DEBUG:root:dimensions: (264, 44)\n",
      "DEBUG:root:section has absolute coordinates\n",
      "DEBUG:root:coordinates: (0, 0)\n",
      "DEBUG:root:calculating maximum font size for area: (264, 44)\n",
      "DEBUG:root:using font: /home/pi/src/epdlib/fonts/Open_Sans/OpenSans-ExtraBold.ttf\n",
      "DEBUG:root:target X font dimension 310.5882352941177\n",
      "DEBUG:root:target Y font dimension 33.0\n",
      "DEBUG:root:Y target reached\n",
      "DEBUG:root:test string: W W W ; pixel dimensions for fontsize 30: (120, 34)\n",
      "DEBUG:root:*****text_b*****\n",
      "DEBUG:root:checking layout keys\n",
      "DEBUG:root:adding key: hcenter: False\n",
      "DEBUG:root:adding key: vcenter: False\n",
      "DEBUG:root:adding key: rand: False\n",
      "DEBUG:root:adding key: maxchar: None\n",
      "DEBUG:root:adding key: dimensions: None\n",
      "DEBUG:root:adding key: scale_x: None\n",
      "DEBUG:root:adding key: scale_y: None\n",
      "DEBUG:root:adding key: fill: 0\n",
      "DEBUG:root:adding key: bkground: 255\n",
      "DEBUG:root:dimensions: (264, 44)\n",
      "DEBUG:root:section has calculated position\n",
      "DEBUG:root:coordinates: (0, 0)\n",
      "DEBUG:root:calculating maximum font size for area: (264, 44)\n",
      "DEBUG:root:using font: /home/pi/src/epdlib/fonts/Open_Sans/OpenSans-ExtraBold.ttf\n",
      "DEBUG:root:target X font dimension 310.5882352941177\n",
      "DEBUG:root:target Y font dimension 11.0\n",
      "DEBUG:root:Y target reached\n",
      "DEBUG:root:test string: W W W ; pixel dimensions for fontsize 10: (42, 12)\n",
      "DEBUG:root:*****image_a*****\n",
      "DEBUG:root:checking layout keys\n",
      "DEBUG:root:adding key: max_lines: 1\n",
      "DEBUG:root:adding key: padding: 0\n",
      "DEBUG:root:adding key: vcenter: False\n",
      "DEBUG:root:adding key: rand: False\n",
      "DEBUG:root:adding key: font: None\n",
      "DEBUG:root:adding key: font_size: None\n",
      "DEBUG:root:adding key: maxchar: None\n",
      "DEBUG:root:adding key: dimensions: None\n",
      "DEBUG:root:adding key: scale_y: None\n",
      "DEBUG:root:adding key: fill: 0\n",
      "DEBUG:root:adding key: bkground: 255\n",
      "DEBUG:root:dimensions: (132, 88)\n",
      "DEBUG:root:section has calculated position\n",
      "DEBUG:root:coordinates: (0, 0)\n",
      "DEBUG:root:*****image_b*****\n",
      "DEBUG:root:checking layout keys\n",
      "DEBUG:root:adding key: max_lines: 1\n",
      "DEBUG:root:adding key: padding: 0\n",
      "DEBUG:root:adding key: hcenter: False\n",
      "DEBUG:root:adding key: rand: False\n",
      "DEBUG:root:adding key: inverse: False\n",
      "DEBUG:root:adding key: font: None\n",
      "DEBUG:root:adding key: font_size: None\n",
      "DEBUG:root:adding key: maxchar: None\n",
      "DEBUG:root:adding key: dimensions: None\n",
      "DEBUG:root:adding key: scale_x: None\n",
      "DEBUG:root:adding key: scale_y: None\n",
      "DEBUG:root:adding key: fill: 0\n",
      "DEBUG:root:dimensions: (132, 88)\n",
      "DEBUG:root:section has calculated position\n",
      "DEBUG:root:coordinates: (0, 0)\n",
      "DEBUG:root:***text_a***)\n",
      "INFO:root:set text block: text_a\n",
      "DEBUG:root:fill: 128, bkground: 255\n",
      "DEBUG:root:creating Block\n",
      "DEBUG:root:setting old_font = None\n",
      "DEBUG:root:calculating maximum characters for font ('Open Sans', 'ExtraBold')\n",
      "DEBUG:root:maximum characters per line: 14\n",
      "DEBUG:root:formatting string: .\n",
      "DEBUG:root:formatted list:\n",
      " ['.']\n",
      "DEBUG:root:***text_b***)\n",
      "INFO:root:set text block: text_b\n",
      "DEBUG:root:fill: 255, bkground: 0\n",
      "DEBUG:root:creating Block\n",
      "DEBUG:root:setting old_font = None\n",
      "DEBUG:root:calculating maximum characters for font ('Open Sans', 'ExtraBold')\n",
      "DEBUG:root:maximum characters per line: 43\n",
      "DEBUG:root:formatting string: .\n",
      "DEBUG:root:formatted list:\n",
      " ['.']\n",
      "DEBUG:root:***image_a***)\n",
      "INFO:root:set image block image_a\n",
      "DEBUG:root:fill: 255, bkground: 0\n",
      "DEBUG:root:creating Block\n",
      "DEBUG:root:no image set; setting to blank image with area: (132, 88)\n",
      "DEBUG:root:***image_b***)\n",
      "INFO:root:set image block image_b\n",
      "DEBUG:root:fill: 0, bkground: 0\n",
      "DEBUG:root:creating Block\n",
      "WARNING:root:fill and background are identical, this will likely result in no visible image\n",
      "DEBUG:root:no image set; setting to blank image with area: (132, 88)\n",
      "DEBUG:root:calculating layout for resolution [264, 176]\n",
      "DEBUG:root:layout id(1871096688)\n",
      "DEBUG:root:*****text_a*****\n",
      "DEBUG:root:checking layout keys\n",
      "DEBUG:root:adding key: hcenter: False\n",
      "DEBUG:root:adding key: vcenter: False\n",
      "DEBUG:root:adding key: rand: False\n",
      "DEBUG:root:adding key: inverse: False\n",
      "DEBUG:root:adding key: relative: False\n",
      "DEBUG:root:adding key: maxchar: None\n",
      "DEBUG:root:adding key: dimensions: None\n",
      "DEBUG:root:adding key: scale_x: None\n",
      "DEBUG:root:adding key: scale_y: None\n",
      "DEBUG:root:adding key: bkground: 255\n",
      "DEBUG:root:dimensions: (264, 44)\n",
      "DEBUG:root:section has absolute coordinates\n",
      "DEBUG:root:coordinates: (0, 0)\n",
      "DEBUG:root:calculating maximum font size for area: (264, 44)\n",
      "DEBUG:root:using font: /home/pi/src/epdlib/fonts/Open_Sans/OpenSans-ExtraBold.ttf\n",
      "DEBUG:root:target X font dimension 310.5882352941177\n",
      "DEBUG:root:target Y font dimension 33.0\n",
      "DEBUG:root:Y target reached\n",
      "DEBUG:root:test string: W W W ; pixel dimensions for fontsize 30: (120, 34)\n",
      "DEBUG:root:*****text_b*****\n",
      "DEBUG:root:checking layout keys\n",
      "DEBUG:root:adding key: hcenter: False\n",
      "DEBUG:root:adding key: vcenter: False\n",
      "DEBUG:root:adding key: rand: False\n",
      "DEBUG:root:adding key: maxchar: None\n",
      "DEBUG:root:adding key: dimensions: None\n",
      "DEBUG:root:adding key: scale_x: None\n",
      "DEBUG:root:adding key: scale_y: None\n",
      "DEBUG:root:adding key: fill: 0\n",
      "DEBUG:root:adding key: bkground: 255\n",
      "DEBUG:root:dimensions: (264, 44)\n",
      "DEBUG:root:section has calculated position\n",
      "DEBUG:root:coordinates: (0, 0)\n",
      "DEBUG:root:calculating maximum font size for area: (264, 44)\n",
      "DEBUG:root:using font: /home/pi/src/epdlib/fonts/Open_Sans/OpenSans-ExtraBold.ttf\n",
      "DEBUG:root:target X font dimension 310.5882352941177\n",
      "DEBUG:root:target Y font dimension 11.0\n",
      "DEBUG:root:Y target reached\n",
      "DEBUG:root:test string: W W W ; pixel dimensions for fontsize 10: (42, 12)\n",
      "DEBUG:root:*****image_a*****\n",
      "DEBUG:root:checking layout keys\n",
      "DEBUG:root:adding key: max_lines: 1\n",
      "DEBUG:root:adding key: padding: 0\n",
      "DEBUG:root:adding key: vcenter: False\n",
      "DEBUG:root:adding key: rand: False\n",
      "DEBUG:root:adding key: font: None\n",
      "DEBUG:root:adding key: font_size: None\n",
      "DEBUG:root:adding key: maxchar: None\n",
      "DEBUG:root:adding key: dimensions: None\n",
      "DEBUG:root:adding key: scale_y: None\n",
      "DEBUG:root:adding key: fill: 0\n",
      "DEBUG:root:adding key: bkground: 255\n",
      "DEBUG:root:dimensions: (132, 88)\n",
      "DEBUG:root:section has calculated position\n",
      "DEBUG:root:coordinates: (0, 0)\n",
      "DEBUG:root:*****image_b*****\n",
      "DEBUG:root:checking layout keys\n",
      "DEBUG:root:adding key: max_lines: 1\n",
      "DEBUG:root:adding key: padding: 0\n",
      "DEBUG:root:adding key: hcenter: False\n",
      "DEBUG:root:adding key: rand: False\n",
      "DEBUG:root:adding key: inverse: False\n",
      "DEBUG:root:adding key: font: None\n",
      "DEBUG:root:adding key: font_size: None\n",
      "DEBUG:root:adding key: maxchar: None\n",
      "DEBUG:root:adding key: dimensions: None\n",
      "DEBUG:root:adding key: scale_x: None\n",
      "DEBUG:root:adding key: scale_y: None\n",
      "DEBUG:root:adding key: fill: 0\n",
      "DEBUG:root:dimensions: (132, 88)\n",
      "DEBUG:root:section has calculated position\n",
      "DEBUG:root:coordinates: (0, 0)\n",
      "DEBUG:root:***text_a***)\n",
      "INFO:root:set text block: text_a\n",
      "DEBUG:root:fill: 128, bkground: 255\n",
      "DEBUG:root:creating Block\n",
      "DEBUG:root:setting old_font = None\n",
      "DEBUG:root:calculating maximum characters for font ('Open Sans', 'ExtraBold')\n",
      "DEBUG:root:maximum characters per line: 14\n",
      "DEBUG:root:formatting string: .\n",
      "DEBUG:root:formatted list:\n",
      " ['.']\n",
      "DEBUG:root:***text_b***)\n",
      "INFO:root:set text block: text_b\n",
      "DEBUG:root:fill: 255, bkground: 0\n",
      "DEBUG:root:creating Block\n",
      "DEBUG:root:setting old_font = None\n",
      "DEBUG:root:calculating maximum characters for font ('Open Sans', 'ExtraBold')\n",
      "DEBUG:root:maximum characters per line: 43\n",
      "DEBUG:root:formatting string: .\n",
      "DEBUG:root:formatted list:\n",
      " ['.']\n",
      "DEBUG:root:***image_a***)\n",
      "INFO:root:set image block image_a\n",
      "DEBUG:root:fill: 255, bkground: 0\n",
      "DEBUG:root:creating Block\n",
      "DEBUG:root:no image set; setting to blank image with area: (132, 88)\n",
      "DEBUG:root:***image_b***)\n",
      "INFO:root:set image block image_b\n",
      "DEBUG:root:fill: 0, bkground: 0\n",
      "DEBUG:root:creating Block\n",
      "WARNING:root:fill and background are identical, this will likely result in no visible image\n"
     ]
    },
    {
     "name": "stderr",
     "output_type": "stream",
     "text": [
      "DEBUG:root:no image set; setting to blank image with area: (132, 88)\n",
      "INFO:root:updating blocks\n",
      "DEBUG:root:updating block: text_a\n",
      "DEBUG:root:formatting string: The quick brown fox jumps over the lazy dog.\n",
      "DEBUG:root:formatted list:\n",
      " ['The quick…']\n",
      "DEBUG:root:updating block: text_b\n",
      "DEBUG:root:formatting string: Pack my box with five dozen liquor jugs. Jackdaws love my big sphinx of quartz.\n",
      "DEBUG:root:formatted list:\n",
      " ['Pack my box with five dozen liquor jugs.', 'Jackdaws love my big sphinx of quartz.']\n",
      "DEBUG:root:updating block: image_a\n",
      "DEBUG:root:resizing image to fit in area\n",
      "DEBUG:root:updating block: image_b\n",
      "DEBUG:root:resizing image to fit in area\n",
      "DEBUG:root:concating blocks into single image\n",
      "DEBUG:root:pasitng **text_a** image at: (0, 0)\n",
      "DEBUG:root:pasitng **text_b** image at: (0, 44)\n",
      "DEBUG:root:pasitng **image_a** image at: (0, 88)\n",
      "DEBUG:root:pasitng **image_b** image at: (132, 88)\n"
     ]
    },
    {
     "data": {
      "image/png": "[encoded data removed]",
      "text/plain": [
       "<PIL.Image.Image image mode=L size=264x176 at 0x6F7FDE90>"
      ]
     },
     "execution_count": 22,
     "metadata": {},
     "output_type": "execute_result"
    }
   ],
   "source": [
    "mylayout_non = Layout.Layout(resolution=epd2in7.resolution, layout=l)\n",
    "mylayout_non.layout = l\n",
    "mylayout_non.update_contents(u1)\n",
    "mylayout_non.concat()"
   ]
  },
  {
   "cell_type": "code",
   "execution_count": 36,
   "metadata": {},
   "outputs": [
    {
     "name": "stderr",
     "output_type": "stream",
     "text": [
      "DEBUG:root:e-Paper busy\n",
      "DEBUG:root:e-Paper busy release\n",
      "INFO:root:epd initialized\n",
      "DEBUG:root:e-Paper busy\n",
      "DEBUG:root:e-Paper busy release\n",
      "INFO:root:epd initialized\n",
      "DEBUG:root:e-Paper busy\n",
      "DEBUG:root:e-Paper busy release\n"
     ]
    },
    {
     "data": {
      "text/plain": [
       "True"
      ]
     },
     "execution_count": 36,
     "metadata": {},
     "output_type": "execute_result"
    }
   ],
   "source": [
    "epd2in7.initEPD()\n",
    "epd2in7.clearEPD()"
   ]
  },
  {
   "cell_type": "code",
   "execution_count": 69,
   "metadata": {},
   "outputs": [
    {
     "name": "stderr",
     "output_type": "stream",
     "text": [
      "DEBUG:root:e-Paper busy\n",
      "DEBUG:root:e-Paper busy release\n",
      "INFO:root:epd initialized\n",
      "DEBUG:root:Horizontal\n",
      "DEBUG:root:e-Paper busy\n",
      "DEBUG:root:e-Paper busy release\n",
      "INFO:root:epd initialized\n",
      "DEBUG:root:e-Paper busy\n",
      "DEBUG:root:e-Paper busy release\n"
     ]
    }
   ],
   "source": [
    "epd2in7.initEPD()\n",
    "epd2in7.writeEPD(mylayout_non.image)"
   ]
  },
  {
   "cell_type": "code",
   "execution_count": 38,
   "metadata": {},
   "outputs": [
    {
     "data": {
      "text/plain": [
       "True"
      ]
     },
     "execution_count": 38,
     "metadata": {},
     "output_type": "execute_result"
    }
   ],
   "source": [
    "epd2in7.one_bit_display"
   ]
  },
  {
   "cell_type": "code",
   "execution_count": null,
   "metadata": {},
   "outputs": [],
   "source": [
    "s = Screen(epd='HD', vcom=-1.93, mode='L')"
   ]
  },
  {
   "cell_type": "code",
   "execution_count": null,
   "metadata": {},
   "outputs": [],
   "source": [
    "mylayout_hd = Layout.Layout(resolution=s.resolution, layout=l)\n",
    "mylayout_hd.update_contents(u1)\n",
    "mylayout_hd.concat()"
   ]
  },
  {
   "cell_type": "code",
   "execution_count": null,
   "metadata": {},
   "outputs": [],
   "source": [
    "mylayout_hd.update_contents(u1)\n",
    "mylayout_hd.concat()\n",
    "s.writeEPD(mylayout_hd.image, sleep=True)"
   ]
  },
  {
   "cell_type": "code",
   "execution_count": null,
   "metadata": {},
   "outputs": [],
   "source": [
    "s.writeEPD(image=mylayout_hd.image, sleep=False)"
   ]
  },
  {
   "cell_type": "code",
   "execution_count": null,
   "metadata": {},
   "outputs": [],
   "source": [
    "# s.initEPD()\n",
    "s.clearEPD()"
   ]
  },
  {
   "cell_type": "code",
   "execution_count": 6,
   "metadata": {},
   "outputs": [],
   "source": [
    "logger = logging.getLogger(__name__)\n",
    "logger.root.setLevel('DEBUG')"
   ]
  },
  {
   "cell_type": "code",
   "execution_count": null,
   "metadata": {},
   "outputs": [],
   "source": []
  }
 ],
 "metadata": {
  "kernelspec": {
   "display_name": "epdlib-AIMLabQa",
   "language": "python",
   "name": "epdlib-aimlabqa"
  },
  "language_info": {
   "codemirror_mode": {
    "name": "ipython",
    "version": 3
   },
   "file_extension": ".py",
   "mimetype": "text/x-python",
   "name": "python",
   "nbconvert_exporter": "python",
   "pygments_lexer": "ipython3",
   "version": "3.7.3"
  }
 },
 "nbformat": 4,
 "nbformat_minor": 4
}
