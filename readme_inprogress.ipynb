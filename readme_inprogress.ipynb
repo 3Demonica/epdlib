{
 "cells": [
  {
   "cell_type": "markdown",
   "metadata": {},
   "source": [
    "# epdlib E-Paper Library\n",
    "Library for creating dynamically scaled screen layouts for frame-buffered devices such as e-paper/e-ink displays. Complex layouts are defined as image or text blocks. Using epdlib blocks makes it trivial to develop for different disiplay resolutions as layouts are aware of thier resolution and scale the blocks dynamically to match the available area.\n",
    "\n",
    "`Layout` objects support scaling images and dynamically scaling [TTF](https://en.wikipedia.org/wiki/TrueType) font-size for different screen sizes. \n",
    "\n",
    "Images are scaled to fit the area using Pillow's thumbnail strategy for a minimum of distortion.\n",
    "\n",
    "Font sizes are set based on each individual font and scaled to fit within text blocks. Text is line-broken using the python textwrap logic.\n",
    "\n",
    "\n",
    "## Scaling Example\n",
    "epdlib `Layout` objects can be scaled to any resolution while maintaining internally consistent ratios.\n",
    "\n",
    "**500x500 Layout**\n",
    "\n",
    "![500x500 weather image](./docs/weather_5x5.png)\n",
    "\n",
    "**300x200 Layout**\n",
    "![300x200 weather_image](./docs/weather_3x2.png)\n",
    "\n",
    "\n"
   ]
  },
  {
   "cell_type": "code",
   "execution_count": null,
   "metadata": {},
   "outputs": [],
   "source": []
  }
 ],
 "metadata": {
  "kernelspec": {
   "display_name": "slimpi_epd-b1Rf9la8",
   "language": "python",
   "name": "slimpi_epd-b1rf9la8"
  },
  "language_info": {
   "codemirror_mode": {
    "name": "ipython",
    "version": 3
   },
   "file_extension": ".py",
   "mimetype": "text/x-python",
   "name": "python",
   "nbconvert_exporter": "python",
   "pygments_lexer": "ipython3",
   "version": "3.7.3"
  }
 },
 "nbformat": 4,
 "nbformat_minor": 4
}
